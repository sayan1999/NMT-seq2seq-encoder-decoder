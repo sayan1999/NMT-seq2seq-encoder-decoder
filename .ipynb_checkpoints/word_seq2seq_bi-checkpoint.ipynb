{
 "cells": [
  {
   "cell_type": "code",
   "execution_count": 189,
   "metadata": {
    "colab": {
     "base_uri": "https://localhost:8080/",
     "height": 85
    },
    "colab_type": "code",
    "id": "zMy7gQFI9qXy",
    "outputId": "7fda5112-96ce-40ef-ff4d-d22435d338b1"
   },
   "outputs": [
    {
     "name": "stdout",
     "output_type": "stream",
     "text": [
      "Requirement already satisfied: bidict in /usr/local/lib/python3.6/dist-packages (0.20.0)\n",
      "[nltk_data] Downloading package punkt to /root/nltk_data...\n",
      "[nltk_data]   Package punkt is already up-to-date!\n"
     ]
    },
    {
     "data": {
      "text/plain": [
       "True"
      ]
     },
     "execution_count": 189,
     "metadata": {
      "tags": []
     },
     "output_type": "execute_result"
    }
   ],
   "source": [
    "!pip install bidict\n",
    "import nltk\n",
    "nltk.download('punkt')"
   ]
  },
  {
   "cell_type": "code",
   "execution_count": 190,
   "metadata": {
    "colab": {},
    "colab_type": "code",
    "id": "aLt_9sNL9qX9"
   },
   "outputs": [],
   "source": [
    "import pandas as pd\n",
    "import numpy as np\n",
    "import re, os, difflib\n",
    "from matplotlib import pyplot as plt\n",
    "from sklearn.utils import shuffle\n",
    "from sklearn.model_selection import train_test_split\n",
    "from tensorflow.keras.layers import Input, LSTM, Embedding, Dense, Bidirectional, Concatenate\n",
    "from tensorflow.keras.models import Model, Sequential\n",
    "import tensorflow as tf\n",
    "from nltk import word_tokenize\n",
    "from gensim.models import Word2Vec\n",
    "from sklearn.preprocessing import OneHotEncoder\n",
    "from bidict import bidict\n",
    "from tensorflow.keras.preprocessing.sequence import pad_sequences\n",
    "from sklearn.metrics import classification_report\n",
    "from tensorflow.keras.callbacks import TensorBoard"
   ]
  },
  {
   "cell_type": "code",
   "execution_count": 191,
   "metadata": {
    "colab": {},
    "colab_type": "code",
    "id": "osRUcUVb9qYA"
   },
   "outputs": [],
   "source": [
    "# parameters\n",
    "# if running on colab turn this false, and select GPU runtime\n",
    "batch_size=32 if not tf.test.is_gpu_available() else 32\n",
    "colab=True\n",
    "training=True\n",
    "validation=True\n",
    "ctx_vec_len=32\n",
    "embedding_dim=32\n",
    "epochs=1\n",
    "no_of_tests=100\n",
    "dropout=0.1"
   ]
  },
  {
   "cell_type": "code",
   "execution_count": 192,
   "metadata": {
    "colab": {
     "base_uri": "https://localhost:8080/",
     "height": 225
    },
    "colab_type": "code",
    "id": "wf7r24jQ9qYH",
    "outputId": "8f27ff56-8321-49c9-ccb3-fc61588f239e"
   },
   "outputs": [
    {
     "data": {
      "text/markdown": [
       "## Architecture For Neural Machine Trans\n",
       "![Architecture Neural Machine Trans](data:image/png;base64,iVBORw0KGgoAAAANSUhEUgAAAVIAAACVCAMAAAA9kYJlAAABa1BMVEX///+S0FBEcsQAsPAAAACU004oW638/Py+vr7Pz8/39/f/3ZrY2ur/0GcAs/Pa3uYAb7OU1EhrpF1BccagqsI4a8AAgMP/7s//vQDl5vLv7+9tiZzs6+/j4+NhmmJNg2t1jKVGe26DwU+Ol7W2vc/IztopVZ1VcKd+u1LZ2dmMlsDKzeJzrlmutNKhoaG3vNdRUVFtbW1eXl59fX1qamq1tbWmpqZ3d3eLi4tHR0c3NzeXl5e5ubklJSUxMTEfHx9fg4sTExP/xiH/9eMyvPL/8s3/9+L/6sB6j7dge64AnN85X6Pf9P3/zVr/3oz/2G//56j/y0X/13dJaKRLS1KusL1FR2AAADJTc3t+mKomOyBSf0phlG9gjIORortkmWkARplRg7ZcgzJEYCVUg3yK0va8wc5/hI4SHjMJEiEwUIo6UiN2qEAxMlI6VzolQHC14vljyPUzLzgeN2JqgqQvRz9hYnOJj6xfZYZlJtHGAAAShElEQVR4nO2djX/UNprHBShYErRsgGyCiCgNoaCD9fpNfpM9w0AbaHkphe217NH29qXs7l332u719u7Pv0eemTAvdqwkkwSCfx8YO/YzsvT1oxd79IJQp06dOnXq1KlTp7dFceIfdRSOmUKNuJr429UTf0R0/gt9dtBRessleuaTpUng8CSMCM8zjdIkZSlhESkDoJ1SRLUIExf4J3GMIymSJEUk9GuAd0IyM59pjAqfDwTLUewiN0ZxyjPw3wpaDIyJL8FlQ4WokzOUUxTGJHOOOO5vqEQJH07AEcpFjpyB47ooiZJEobB0hkh57gSo5yeJyAT8mXMEVKlP0iOO+psqDoSQA2WmiPgYaVrACSfzyKgsDcFPK5qeRMzpMTTg4Lod0ibJTCdUejoTvI8YZqKnuAeHIiKw4waGKcUUkUAnHMwSFIZCRdpjKjzqqL+xYpybD6jHR/9Y9df2H6jagWPO6AP+m63TFaWd9iAax6qm0RgUhx+V46JcClGTG31y+FE5LspN4RerBKoUNyGIJiFHLNFQcxeJRiJOVXsYnaaUxUqyXoGgJaRRTDPT6PQo7xESIqXlQOwiLNk9GRnlVHJ4/oHGeCQR0gqa8DRgkPHTIPRD6e0mLNqVFkZVxjdImXnq0S5yPF4hDQ0fGewmrA5ppVwRykvklIxEJBQejUOUpqpPeE4V7bx0D5KUUgZZXjpARCBBKNT/VApudpE5Y68O6cLVIV24OqQLV4d04eqQLlwd0ntnthYbYId09e4niw2wQ3qISNnovTRCDmcTR4+bDhEp5mT4SsXx9OunB4/vENj4HYx8m1z/sJByKvucc4AkEcGCCyrgWU1w2iNwjjb4ajz65S9O2i/MTd+XYuoOsWw379AWpUNCKjISYpbEKqUeLTBVWFHMkda0JCIgblTDlCdhqJFMfIHi178AOtsfk5/wIfqwJez1CUDaE6//MMedut1F65CQ+gVCAxaq0LDhGBHPFARIu07GKOVxPv8egZUS5ZphxnKxjZRmac5ZkEYp6wVhxpHrJT5iUZgLjZWI4ATcvtTjpntRyXuCB2FvFHYUpCEKBg5KFMJhumOJsx99cvdQGlEBMa8Ow5iFvicM0gA5FVKWcRkFRTaP1LwAU9oNhQjU9u/UGUXCo3CGc9h1U9lDKCRaA1XRQ3GB5IB7ULS4qTY9DXIeutW9q+JgruH3FAoVy1h1Vw9En6wdCtJIQcoAKeyqSAyRDhhKASmD1LMapDQzSNNIKbLtpbyXhAmEU4bSvNAVXpyHYZYm5pqiRCzNUlwVAFUnOEAqPajg8LBEjSqkccYMUg5hvS0/ftcjdfLCN2WpTohHwUsLcBEgMXBRrmhOUjz/8wobCBRo0/UqI2OkUAZAeQk7EnMPHC1SAbAUCRQrBJBWN04AKi71EKkw2WOMNIAcH1EdpxVSdmA5/8n9xYbXVONLKZCp8aVEjkQcUsmkhANCQiuAi5rkiSAMXBRHUYzUuM+P9lmaipDTkuUu8OIeEbmkGVe+6DthyDXmbsrDmARc57wUhSfc0f2ovDSiPE+KykvzxSb8tT5/vNjwDvjpibjKfLice7ELrs1cF+4ONAuQUyjHdaliSLngtYVLC6Y4oq47+mrVpyiiKMYFy5kpGtq0urp6DzZbsF11hn+vrsL23urozNwBY3rm6drq1vikMzq5NQ4HrJz6cBrLoUUjdeP64zybdOzQwuViH8C7sqqn/CRp7/dxf21t7QlsH8N2DVJ+z2y/gANnzI7J3Wa7NrKsTN8zFluPq/275uDW6KRx3M9HXxuGAwE+HX9tbFovW6TM8km0n9ffPUdOHOcDvNNlmdHIXNm3/h8/szY9UNkide26RBKMLfplaIy9HervOAWN4lVGVtc1elP6w9kiLbFNhcs8jMvWlHGMrcgjc4sGu/p18hC19aQh61siBe9z262MGcat9YjKwUuteq2yAGN7Nz1cba01PMjaIWUAwcZNicJ9ZdElyMN2RWRhbpFlF6N7C35Ub9XdhvasHdLK+6z8qt+3geVhu+zsJrgMLft4rq7Z2S1M+0MqaYmJlWP1rDq5Bbauh3Bm+9L70JGu7QspQrllVs2tqpPIFqkzyG2fQ51VS8NFqWr118gWaWaZVe3s7JGWvaN4Lb0v2SL1LCFkVnb+jk39SeXl7pGun5vXXPHBH9x4PqtPv501cy7NB7XecvkWpOtnh7r0O/zleLeucGOXRif/9aux3dlLdYkdntr88vrYqiaGzublO2P1B18Pd15cb0nJtjafn57Tw09nvn7u+cqFOa2sPJ+OzfqDhzVhPdi55b0z0ot3rpwf6vf430Z7Ly+fnbO7dPXl+Vld+ebb2Uvfujxv9t2dzdnQrl3ZWFoeaun3eGO4s/HyNzsm5PW3T184OacLF/59iim7sTJvBFr5dDLO68C9JqyVG/NetX7tV/P6w7wbXD2/vDTSH/+0Md5d+nCW6aWvTyzNa/nmL9Nmrz5YrjP77uK02eb55RM1Wn45fytrdO5hLauTFz6d5HC9yerhuQmra/XcT56+OHvV9T98dur9WZ069etZw7Mvl+rSduLE1Zm7dPVmreHS+SkHXL9TH9zSN9NFxJ36iy7dfGGDdLMBwzSsJquTpycd63mD0cqnMxd1HnwGAGv0q5li7WI9qRNLH8wY/rkewomNKQhnrzQEd3s663/YcCOXLtsgvdgIa/dIP2owunBj5qLrv64neuqzGTf9l9oMCGm7MlPzfNAAYfnqpNWt2w1mG9Ol5IcNl11+C5GeutYh7ZB2SDukHdIOaYe0Q9oh7ZB2SDukHdIOaYf0wJDyhN5qQ+qYecl2i/T97+fI7h4pE5ZIHWGDtND8AJEyDhJCSIz/0fC+9OTpV0MbEeCeakfKYz6B9ONHOyGlhFkhxYmwQ5oFXzYjZaN0uHgQiqaXe/tEuvKXLMvzXr8/MJ0S8F9roT78a569tvnbf7QhZbjUzBKpwh5pRnqdEkJUHLvadJmQzUgZpSPDEuP//KEB6d89SGw5Sgf+r3qr/SPFg7LMs8wLDNF6Wg/xoF/2jE0P496PDUGd/DGJgsDEuYpywreR/vToJ7Pz06NHP4+Rpn4UQPp6Q9s/NiD97p94Uv9oevu/fLWYMsQ/1BpufIWH6fAyc4cab9B+M77J95wxhgbZX5qsPno1skn6mn1U88tT5aX/bRIzMPRhW6bONtKPK0f9+dGp998fI83HtuBU+KsGr1q68mWUhGGqtaswzmPe7KUiGBvm+G9/2qi327g4SqtDsS8PocYvnFetNT7lO1RPzylISik4xqmYzPhA9dSp73+ayPiSVLZCFLhfPLCo8bHL7Wr8LN1sr56E6QTwVjWi0pnqyTjqz+ClH388V5YK164RVf1Ga4PUeXMaUYtEOtQU0u8fnfp+oiyd0nFtlx4Y0qEeffzuNfUPGOlUQ6pD2j2Qdkg7pB3SDmmHtEPaIe2Qdkg7pG810uvHBOn5BrOb00gbekHPdABuUrP/TSJdb+rgfGOyN3LTrylzvaCtkV7caED6ck+9oM+9rL9FS1emRwl8a9VNvUnXTzd41vRgkc26QRInZwZJPGi4PSszoBqRvj/bC/pWQ0/w5TuzffXr3y0v3Z4K0HlRa7a0cWd65Mn61xt1oyRu/mI33v5BLdMZWID+xvagm8ahPOsP65heWHk+Nzyqsa/+7Eilq7eX5yEsLX1wa8bu3J/h6Jzd8sYMhPVfbm+MBt8sn9jeuX159rLr1z64MqvvvvnWCihC7NrD0yuVfny4Mtbp53NDfPj6SNG58d76LKpzN14HsR3UwxvzQ7XWb9iNKEHrL17evjnSD+Od89/MZ8Bbd87fnNXtly9mWbGLLy4Pded/RjuXX8yNiIObvn5ppH+Ody61jYmb0NlXm69ewX/8u1cjbV6vGdc2ktxptgV2fTuIf462m9frcovtuCeI3eZvh/rN3/93tHerLnHr14cn/++3r3V2p7k2rCahQNRycolaKbuh/AEe2JQoyi7GuxDBFrM9ItZrn3rIiOd2k0FkFtN6NMYlw9hiUjmBMW6YNWgqNK99NoxdCuJnMYRZ4Z7VvYwxHlh4ELWeA6U2LqD20b+J+Um4fehvgfEeBgjvJDNtRPvaJ2a+Dpt7yUwvgazVzDF9GKzH488qTnHPbb1vTCfYi9thmV/jbfKptZwIbmXZGj9ld8eR0B5O4tYszdwQR+7efcNuxglqg0p6JfZ2tZ5OmxypcFQ30d60Eij7AquR9hpbzVhCbYq5Jjl9Kw+ndsW6tp5CwFbS6sLconSopO1YUauplBpkOeMEtYuz3k/jo1YSBxZ1r8Ce3ewurh2r/SG1m3FC2rQLrJ1gF5KDnaZ0G4sPMrvaJLZrkuwTqdUES5ZILWO8C1kiLS0r6ENB6uVWSHOrjL94pGKQW2Rpa6TqEJDazmbJrJ4mYrzota25bm/0gFV/YNmMtEvH/pCCVJsHBrZzgDF5RAtftDe0dqW9IjX+6TjMzDI9+mNqwv6xUmaP9LBn8nSQM76HrbltPM2ozXSjBmllNh1o2zdd349RFmjPIQFKk9RnmKPe7AO1U/S1iJQL7U2q21pIZvr6Q5VHxKiJkU4sg5zUvhUIR5YWkzsjToQw9bH2J5nylpdCwpMy4x4FFyQRg2o1ISnh8807M5d9kHBPyMgskrtzmO3Pz3YiQUR1kvmhoKbZ7Pm+5n6UJVPXd6QICDOTmUtoRREmpBAMMSEyBeckn7ENlZn83EHpZJ4WFIKHABxHwNfR0AKyrUBFyRFX5i8TFBQsTPDSXKy5NqceKSjyZIVUhlC1xDRRNUUItPjMRNNEe2G0EzKdSEiMGTujIenwiOxKpPY2VS3PmFmC04OwEi+u1mWA7COm58Z2fK0HlATA1ddi4FKsSU4gXTLXPIrV5FouLEwVPIrmSidTSN2A5OCPJA35wIdvsEi7HnhGEdC4L2lAwF4FKuNBDAHzkpGAeI2loJnKm6JsiNTpGW6OV9Z4tkFKzSrDOz9rkhBRUUreMwuNpK6OeRnzbG+FK8tMshkgdQIBYUB1Dk09OY3UrEtg4l4EJtKl4NCO8gBpACnhLiLexNO8WVsjLMyCO4GcQGqSLT1qFiPgcAdUWCRwE4kpQzRcTQmhBqJnBmP5CskAvBR4subsT4OEIF+gEKKFSARfQmmdF2bgyxRFBRQTO83q5mShAxmfDxyzhEUkAxqG0rdkOCsRmLgDUqXNLR34EIlZpGbi7QS8FOkgIAZp9hopCyMdTTzIGVS6CL0wCcgEUlkmSRKg2AuUWXiDRmkWhgGpamO4Go0CgmVpLKMKaU8a17ea9nc8j21YV//ImFNwaIForHZ0OpXJCincdJowL6ZRbDlRbY2KvELqB2kvBS+l0RzS2K+81DQAZe6UUIRys2xMhdQsXBJNJIaaZV8KA7MQE0gFPEY45k/ZF1CLxKGG20RkZLyU5igjUCMZL5UkURDwyEsH7Q1FGo2wO3ofrTviFj7U+BxDzGgkkS65u9f30RxyeWaQirJafnsgTFk6gxRFWmNASgOapghLAblYeTQI4ITANB5MlJlOCmWpQr0i9pzJGl8HNJOQ9XXEylAFggdunJlVp5JY9GQaUR87KiKeJB6JAqjxYesd3tJnlJo6xTFrPptqFBq7fK/zqDM/icAdAlGYhzGob7jJ5rPrcDuUCmboU1MqsGpRArOOCeLUEVTyqfsJtny4rtnUU0EVVQjAAf8zg7hYtfIZr0KU5gJm/eqhDRfmChDwHhP1zklYvso6dpI+1CfpgST++C0h2eng9PjJUcegVU2zsL+pevaGrEuzg5rWCnhT9ezzo45Bm5y3DemTL446Bq1a9JLhB637X7whyycdL50xuofQltmaXHbf7IBvOGb7FJh/Mj7ztNUU3TuzOjY0S9RNGd4bXw22q2Y7aeqMTVdnTd8+ff4eCLCsmq1pAZyB7eNPgIc58wwSd9+ceQpnno1Mt2ZNnbHps7tV2ffEHAdOW49hx2B5ag6YLGwOvAfb+7DzeNL03pTp6oTpO65na0+POgrHTWcWvdBvp6cd0kXr6d2G9ZE67Vkd0U6dOnXq1Ok4ypHVL3Pzx6Pul7g9SpRE1fayCTqke5TpO8V7DCkzUst8yFgxxGPiSURjigSNO7a7U9UdbSDSQmTM1VJLj8cRigrSFyRlPqV98o7+wLxnVUhLWabpgJhOXilBLKMBZHwRRKmn6V57ar27MkhZZvr+wAaZrnjbSD2T48lCx2S+ExI9JiKFEsVdlrrCpR5TieNROhAqYUR2SHctprQ23uiaT1cLRM2oFKEJFKFEKyQOr59Yp06dOnXqdAT6f2PCMLGwm5Z8AAAAAElFTkSuQmCC)"
      ],
      "text/plain": [
       "<IPython.core.display.Markdown object>"
      ]
     },
     "metadata": {
      "tags": []
     },
     "output_type": "display_data"
    }
   ],
   "source": [
    "from IPython.display import display, Markdown\n",
    "if not colab:\n",
    "    display(Markdown('''## Architecture For Neural Machine Trans\n",
    "![Architecture Neural Machine Trans](image/NeuralMachineTrans.png)'''))\n",
    "    \n",
    "else:\n",
    "    display(Markdown('''## Architecture For Neural Machine Trans\n",
    "![Architecture Neural Machine Trans](data:image/png;base64,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)'''))"
   ]
  },
  {
   "cell_type": "code",
   "execution_count": 193,
   "metadata": {
    "colab": {
     "base_uri": "https://localhost:8080/",
     "height": 34
    },
    "colab_type": "code",
    "id": "cJ9Cfl5D9qYN",
    "outputId": "a2afed49-f951-4bd0-b7f2-0b11b3982ee8"
   },
   "outputs": [
    {
     "name": "stdout",
     "output_type": "stream",
     "text": [
      "Drive already mounted at /content/drive; to attempt to forcibly remount, call drive.mount(\"/content/drive\", force_remount=True).\n"
     ]
    }
   ],
   "source": [
    "if not colab:\n",
    "    # if on local machine \n",
    "    root_dir='.'\n",
    "    \n",
    "else:\n",
    "    # if using google colab use this code\n",
    "    from google.colab import drive\n",
    "    drive.mount('/content/drive')\n",
    "    root_dir = \"/content/drive/My Drive/Colab Notebooks\""
   ]
  },
  {
   "cell_type": "code",
   "execution_count": 194,
   "metadata": {
    "colab": {},
    "colab_type": "code",
    "id": "Ct0UBp8y9qYS"
   },
   "outputs": [],
   "source": [
    "data_path = os.path.join(root_dir, \"fra.csv\")\n",
    "doc = pd.read_csv(data_path, skiprows = range(1, 130000), nrows=1000)\n",
    "# shuffle dataset\n",
    "doc=doc.sample(frac=1)"
   ]
  },
  {
   "cell_type": "code",
   "execution_count": 195,
   "metadata": {
    "colab": {},
    "colab_type": "code",
    "id": "tvVhQmsq9qYY"
   },
   "outputs": [],
   "source": [
    "# replace contracted forms for english words\n",
    "contracted_dict={\"won't\" : \"will not\", \"can\\'t\" : \"can not\", \"n\\'t\" : \" not\", \"\\'re\" : \" are\", \"\\'s\" : \" is\", \"\\'d\" : \" would\", \"\\'ll\" : \" will\", \"\\'t\" : \" not\", \"\\'ve\" : \" have\", \"\\'m\" : \" am\"}\n",
    "\n",
    "def replace_contracted(text):\n",
    "\n",
    "    regex = re.compile(\"|\".join(map(re.escape, contracted_dict.keys(  ))))\n",
    "    return regex.sub(lambda match: contracted_dict[match.group(0)], text)"
   ]
  },
  {
   "cell_type": "code",
   "execution_count": 196,
   "metadata": {
    "colab": {},
    "colab_type": "code",
    "id": "WPWsAj-u9qYd"
   },
   "outputs": [],
   "source": [
    "# apply decontraction and lowercase\n",
    "doc=doc.apply(np.vectorize(lambda sent : replace_contracted(str(sent).strip().lower())))"
   ]
  },
  {
   "cell_type": "code",
   "execution_count": 197,
   "metadata": {
    "colab": {},
    "colab_type": "code",
    "id": "54f6A85j9qYg"
   },
   "outputs": [],
   "source": [
    "# tokenize sentences and add start_ and _end keyword to target sentences\n",
    "source_sents=doc.Source.apply(lambda x: x + ' _END').apply(lambda sent: word_tokenize(sent))\n",
    "target_sents=doc.Target.apply(lambda x : 'START_ '+ x + ' _END').apply(lambda sent: word_tokenize(sent))"
   ]
  },
  {
   "cell_type": "code",
   "execution_count": 198,
   "metadata": {
    "colab": {},
    "colab_type": "code",
    "id": "c0PwKMAA9qYj",
    "scrolled": true
   },
   "outputs": [],
   "source": [
    "# building the vocabulary\n",
    "source_vocab=set().union(*source_sents)\n",
    "target_vocab=set().union(*target_sents)"
   ]
  },
  {
   "cell_type": "code",
   "execution_count": 199,
   "metadata": {
    "colab": {},
    "colab_type": "code",
    "id": "KSuPWE2C9qYo"
   },
   "outputs": [],
   "source": [
    "# max sentence length for each language in the dataset\n",
    "max_source_len=max(source_sents.apply(len))\n",
    "max_target_len=max(target_sents.apply(len))"
   ]
  },
  {
   "cell_type": "code",
   "execution_count": 200,
   "metadata": {
    "colab": {},
    "colab_type": "code",
    "id": "Yhpt_X7Y9qYr"
   },
   "outputs": [],
   "source": [
    "# numeric identity for each word in vocab\n",
    "source_wordint_rel=bidict(enumerate(source_vocab, 1))\n",
    "target_wordint_rel=bidict(enumerate(target_vocab, 1))"
   ]
  },
  {
   "cell_type": "code",
   "execution_count": 201,
   "metadata": {
    "colab": {},
    "colab_type": "code",
    "id": "h0_0s05X9qYv"
   },
   "outputs": [],
   "source": [
    "# prepare inputs and outputs\n",
    "encoder_source_arr=[list(map(lambda word : source_wordint_rel.inv[word], sent)) for sent in source_sents]\n",
    "decoder_source_arr=[list(map(lambda word : target_wordint_rel.inv[word], sent)) for sent in target_sents]\n",
    "decoder_output_arr=[list(map(lambda word : target_wordint_rel.inv[word], sent[1:])) for sent in target_sents]"
   ]
  },
  {
   "cell_type": "code",
   "execution_count": 202,
   "metadata": {
    "colab": {},
    "colab_type": "code",
    "id": "WtaBqNMZ9qYy",
    "scrolled": true
   },
   "outputs": [],
   "source": [
    "# pad the inputs and outputs to max length\n",
    "padded_encoder_source_arr=pad_sequences(encoder_source_arr, maxlen=max_source_len, padding='post')\n",
    "padded_decoder_source_arr=pad_sequences(decoder_source_arr, maxlen=max_target_len, padding='post')\n",
    "padded_decoder_output_arr=pad_sequences(decoder_output_arr, maxlen=max_target_len, padding='post')\n",
    "onehotted_decoder_output_arr=tf.one_hot(padded_decoder_output_arr, len(target_vocab)+1).numpy()"
   ]
  },
  {
   "cell_type": "markdown",
   "metadata": {
    "colab_type": "text",
    "id": "T9AF9kdc9qY1"
   },
   "source": [
    "# Model Preparation"
   ]
  },
  {
   "cell_type": "code",
   "execution_count": 203,
   "metadata": {
    "colab": {},
    "colab_type": "code",
    "id": "YH3L903Z9qY2"
   },
   "outputs": [],
   "source": [
    "# context-vector length\n",
    "latent_dim=ctx_vec_len\n",
    "\n",
    "# this is the source languge consumtion layer\n",
    "encoder_inputs = Input(shape=(None,), name='encoder_sources')\n",
    "# embed the 2-d source into 3-d\n",
    "enc_emb =  Embedding(len(source_vocab)+1, embedding_dim, mask_zero = True, name='enc_emb')(encoder_inputs)\n",
    "\n",
    "# LSTM layer to encode the source sentence into context-vector representation\n",
    "encoder_lstm = Bidirectional(LSTM(latent_dim, return_state=True, name='encoder_lstm', dropout=dropout))\n",
    "encoder_outputs, forward_h, forward_c, backward_h, backward_c = encoder_lstm(enc_emb)\n",
    "\n",
    "# encoded-states tensor stores the context-vector\n",
    "state_h = Concatenate()([forward_h, backward_h])\n",
    "state_c = Concatenate()([forward_c, backward_c])\n",
    "encoder_states = [state_h, state_c]"
   ]
  },
  {
   "cell_type": "code",
   "execution_count": 204,
   "metadata": {
    "colab": {},
    "colab_type": "code",
    "id": "WOssNVT79qY6"
   },
   "outputs": [],
   "source": [
    "# this is the target languge consumtion layer\n",
    "decoder_inputs = Input(shape=(None,), name='decoder_sources')\n",
    "# embed the 2-d source into 3-d\n",
    "dec_emb_layer = Embedding(len(target_vocab)+1, embedding_dim, mask_zero = True, name='dec_emb_layer')\n",
    "dec_emb = dec_emb_layer(decoder_inputs)\n",
    "\n",
    "# decoder LSTM, this takes in the context-vector and starting or so-far decoded part of the target sentence\n",
    "decoder_lstm = LSTM(latent_dim*2, return_sequences=True, return_state=True, name='decoder_lstm', dropout=dropout)\n",
    "decoder_outputs, _, _ = decoder_lstm(dec_emb, initial_state=encoder_states)\n",
    "\n",
    "# final layer that gives a probabilty distribution of the next possible words\n",
    "decoder_dense = Dense(len(target_vocab)+1, activation='softmax', name='decoder_dense')\n",
    "decoder_outputs = decoder_dense(decoder_outputs)"
   ]
  },
  {
   "cell_type": "code",
   "execution_count": 205,
   "metadata": {
    "colab": {
     "base_uri": "https://localhost:8080/",
     "height": 527
    },
    "colab_type": "code",
    "id": "tiYu7bVY9qY9",
    "outputId": "775d02e4-9d45-4e20-fa24-41b13aa2c8eb"
   },
   "outputs": [
    {
     "name": "stdout",
     "output_type": "stream",
     "text": [
      "Model: \"Model_Translation\"\n",
      "__________________________________________________________________________________________________\n",
      "Layer (type)                    Output Shape         Param #     Connected to                     \n",
      "==================================================================================================\n",
      "encoder_sources (InputLayer)    [(None, None)]       0                                            \n",
      "__________________________________________________________________________________________________\n",
      "enc_emb (Embedding)             (None, None, 32)     34848       encoder_sources[0][0]            \n",
      "__________________________________________________________________________________________________\n",
      "decoder_sources (InputLayer)    [(None, None)]       0                                            \n",
      "__________________________________________________________________________________________________\n",
      "bidirectional_11 (Bidirectional [(None, 64), (None,  16640       enc_emb[0][0]                    \n",
      "__________________________________________________________________________________________________\n",
      "dec_emb_layer (Embedding)       (None, None, 32)     48416       decoder_sources[0][0]            \n",
      "__________________________________________________________________________________________________\n",
      "concatenate_16 (Concatenate)    (None, 64)           0           bidirectional_11[0][1]           \n",
      "                                                                 bidirectional_11[0][3]           \n",
      "__________________________________________________________________________________________________\n",
      "concatenate_17 (Concatenate)    (None, 64)           0           bidirectional_11[0][2]           \n",
      "                                                                 bidirectional_11[0][4]           \n",
      "__________________________________________________________________________________________________\n",
      "decoder_lstm (LSTM)             [(None, None, 64), ( 24832       dec_emb_layer[0][0]              \n",
      "                                                                 concatenate_16[0][0]             \n",
      "                                                                 concatenate_17[0][0]             \n",
      "__________________________________________________________________________________________________\n",
      "decoder_dense (Dense)           (None, None, 1513)   98345       decoder_lstm[0][0]               \n",
      "==================================================================================================\n",
      "Total params: 223,081\n",
      "Trainable params: 223,081\n",
      "Non-trainable params: 0\n",
      "__________________________________________________________________________________________________\n"
     ]
    }
   ],
   "source": [
    "# model building and summary\n",
    "model = Model([encoder_inputs, decoder_inputs], decoder_outputs, name='Model_Translation')\n",
    "model.compile(optimizer='Adam', loss='categorical_crossentropy', metrics=['acc'])\n",
    "model.summary()"
   ]
  },
  {
   "cell_type": "markdown",
   "metadata": {
    "colab_type": "text",
    "id": "KhM0qIxr9qZA"
   },
   "source": [
    "# Training"
   ]
  },
  {
   "cell_type": "code",
   "execution_count": 206,
   "metadata": {
    "colab": {},
    "colab_type": "code",
    "id": "g_dxY6fL9qZB"
   },
   "outputs": [],
   "source": [
    "# TensorBoard Callback \n",
    "tbCallBack = TensorBoard(log_dir=os.path.join(root_dir, 'Graph'), histogram_freq=0, write_graph=True, write_images=True)"
   ]
  },
  {
   "cell_type": "code",
   "execution_count": 207,
   "metadata": {
    "colab": {
     "base_uri": "https://localhost:8080/",
     "height": 627
    },
    "colab_type": "code",
    "id": "6SsaUZXF9qZF",
    "outputId": "4c17b239-a7a8-4cc0-bbcc-59554f805f25",
    "scrolled": true
   },
   "outputs": [
    {
     "name": "stdout",
     "output_type": "stream",
     "text": [
      " 2/31 [>.............................] - ETA: 6s - loss: 4.7975 - acc: 0.0238WARNING:tensorflow:Callbacks method `on_train_batch_end` is slow compared to the batch time (batch time: 0.0328s vs `on_train_batch_end` time: 0.4338s). Check your callbacks.\n",
      "31/31 [==============================] - 4s 126ms/step - loss: 4.6870 - acc: 0.1336 - val_loss: 4.1789 - val_acc: 0.1570\n"
     ]
    },
    {
     "data": {
      "image/png": "[encoded data removed]",
      "text/plain": [
       "<Figure size 432x288 with 1 Axes>"
      ]
     },
     "metadata": {
      "tags": []
     },
     "output_type": "display_data"
    },
    {
     "data": {
      "image/png": "[encoded data removed]",
      "text/plain": [
       "<Figure size 432x288 with 1 Axes>"
      ]
     },
     "metadata": {
      "tags": []
     },
     "output_type": "display_data"
    }
   ],
   "source": [
    "if training:\n",
    "    # train the model\n",
    "    history=model.fit([padded_encoder_source_arr, padded_decoder_source_arr], onehotted_decoder_output_arr, epochs=epochs, validation_split=0.02, callbacks=[tbCallBack], batch_size=batch_size)\n",
    "    model.save_weights(os.path.join(root_dir, 'word-seq2seq_bi.hdf5'))\n",
    "    with plt.style.context('dark_background'):\n",
    "        plt.plot(history.history['acc'])\n",
    "        plt.plot(history.history['val_acc'])\n",
    "        plt.title('model accuracy')\n",
    "        plt.ylabel('accuracy')\n",
    "        plt.xlabel('epoch')\n",
    "        plt.legend(['train', 'val'], loc='upper left')\n",
    "        plt.show()\n",
    "        plt.plot(history.history['loss'])\n",
    "        plt.plot(history.history['val_loss'])\n",
    "        plt.title('model loss')\n",
    "        plt.ylabel('loss')\n",
    "        plt.xlabel('epoch')\n",
    "        plt.legend(['train', 'val'], loc='upper left')\n",
    "        plt.show()"
   ]
  },
  {
   "cell_type": "markdown",
   "metadata": {
    "colab_type": "text",
    "id": "CZpJP5Fk9qZI"
   },
   "source": [
    "# Decoder Model"
   ]
  },
  {
   "cell_type": "code",
   "execution_count": 208,
   "metadata": {
    "colab": {},
    "colab_type": "code",
    "id": "Ksm-Vbao9qZJ"
   },
   "outputs": [],
   "source": [
    "# Encode the source sequence to get the \"Context vectors\"\n",
    "encoder_model = Model(encoder_inputs, encoder_states)\n",
    "# Decoder setup\n",
    "# Below tensors will hold the states of the previous time step\n",
    "decoder_state_input_h = Input(shape=(latent_dim*2,))\n",
    "decoder_state_input_c = Input(shape=(latent_dim*2,))\n",
    "decoder_state_input = [decoder_state_input_h, decoder_state_input_c]\n",
    "# Get the embeddings of the decoder sequence\n",
    "dec_emb2= dec_emb_layer(decoder_inputs)\n",
    "# To predict the next word in the sequence, set the initial states to the states from the previous time step\n",
    "decoder_outputs2, state_h2, state_c2 = decoder_lstm(dec_emb2, initial_state=decoder_state_input)\n",
    "decoder_states2 = [state_h2, state_c2]\n",
    "# A dense softmax layer to generate prob dist. over the target vocabulary\n",
    "decoder_outputs2 = decoder_dense(decoder_outputs2)\n",
    "# Final decoder model\n",
    "decoder_model = Model(\n",
    "    [decoder_inputs] + decoder_state_input,\n",
    "    [decoder_outputs2] + decoder_states2)"
   ]
  },
  {
   "cell_type": "markdown",
   "metadata": {
    "colab_type": "text",
    "id": "5yRFPYsS9qZM"
   },
   "source": [
    "# Decoding Logic"
   ]
  },
  {
   "cell_type": "code",
   "execution_count": 209,
   "metadata": {
    "colab": {},
    "colab_type": "code",
    "id": "_hAps5WG9qZN"
   },
   "outputs": [],
   "source": [
    "def decode_sequence(source_seq):\n",
    "    \n",
    "    # Encode the source as state vectors.\n",
    "    states_value = encoder_model.predict(source_seq)\n",
    "    # Generate empty target sequence of length 1.\n",
    "    target_seq = np.zeros((1,1))\n",
    "    # Populate the first character of \n",
    "    #target sequence with the start character.\n",
    "    target_seq[0, 0] = target_wordint_rel.inv['START_']\n",
    "    # Sampling loop for a batch of sequences\n",
    "    # (to simplify, here we assume a batch of size 1).\n",
    "    stop_condition = False\n",
    "    decoded_sentence = []\n",
    "    while not stop_condition:\n",
    "        output_tokens, h, c = decoder_model.predict([target_seq] + states_value)\n",
    "    # Sample a token\n",
    "        sampled_token_index = np.argmax(output_tokens[0, -1, :])\n",
    "        sampled_word =target_wordint_rel[sampled_token_index]\n",
    "        decoded_sentence += [sampled_word]\n",
    "    # Exit condition: either hit max length\n",
    "        # or find stop character.\n",
    "        if (sampled_word == '_END' or\n",
    "           len(decoded_sentence) > 50):\n",
    "            stop_condition = True\n",
    "    # Update the target sequence (of length 1).\n",
    "        target_seq = np.zeros((1,1))\n",
    "        target_seq[0, 0] = sampled_token_index\n",
    "    # Update states\n",
    "        states_value = [h, c]\n",
    "    return decoded_sentence"
   ]
  },
  {
   "cell_type": "markdown",
   "metadata": {
    "colab_type": "text",
    "id": "EZFK5mg_9qZQ"
   },
   "source": [
    "# Prediction"
   ]
  },
  {
   "cell_type": "code",
   "execution_count": 210,
   "metadata": {
    "colab": {
     "base_uri": "https://localhost:8080/",
     "height": 309
    },
    "colab_type": "code",
    "id": "mWwKlX5a9qZQ",
    "outputId": "dc4a3a39-9de3-497c-9ac5-3c2884e6aed0",
    "scrolled": false
   },
   "outputs": [
    {
     "name": "stdout",
     "output_type": "stream",
     "text": [
      "WARNING:tensorflow:5 out of the last 16 calls to <function Model.make_predict_function.<locals>.predict_function at 0x7fcf548b8ea0> triggered tf.function retracing. Tracing is expensive and the excessive number of tracings could be due to (1) creating @tf.function repeatedly in a loop, (2) passing tensors with different shapes, (3) passing Python objects instead of tensors. For (1), please define your @tf.function outside of the loop. For (2), @tf.function has experimental_relax_shapes=True option that relaxes argument shapes that can avoid unnecessary retracing. For (3), please refer to https://www.tensorflow.org/tutorials/customization/performance#python_or_tensor_args and https://www.tensorflow.org/api_docs/python/tf/function for  more details.\n",
      "Avg error for 100 tests was 0.9960204104259032.\n",
      "                                           Expected Predicted\n",
      "0   il était doté d'une désagréable voix perçante .        je\n",
      "1             il avait peu d'amis et peu d'argent .        je\n",
      "2      il avait beaucoup d'argent pour son voyage .        je\n",
      "3      il eut l'effronterie d'ignorer mon conseil .        je\n",
      "4       il a une profonde affection pour son fils .        je\n",
      "..                                              ...       ...\n",
      "95                    il jeta tout hors du bateau .        je\n",
      "96  il m'a dit que je pouvais utiliser sa voiture .        je\n",
      "97             il m'a dit que son père était mort .        je\n",
      "98     il m'ordonna de laisser la fenêtre ouverte .        je\n",
      "99            il me dit de le rencontrer chez lui .        je\n",
      "\n",
      "[100 rows x 2 columns]\n"
     ]
    }
   ],
   "source": [
    "def calc_strdiff(true, pred):\n",
    "    return sum([1 for char in list(difflib.ndiff(true, pred)) if '+ ' in char or '- ' in char])/(len(true))\n",
    "    \n",
    "if validation:\n",
    "    \n",
    "    model.load_weights(os.path.join(root_dir, 'word-seq2seq_bi.hdf5'))\n",
    "    y_truePred = [(' '.join(target_sents[seq_index][1:-1]), ' '.join(decode_sequence(padded_encoder_source_arr[seq_index:seq_index+1])[:-1])) for seq_index, _ in enumerate(padded_encoder_source_arr[:no_of_tests])]\n",
    "    error=sum([calc_strdiff(true, pred) for true, pred in y_truePred])/no_of_tests\n",
    "    print(f'Avg error for {no_of_tests} tests was {error}.')\n",
    "    print(pd.DataFrame(y_truePred, columns=['Expected', 'Predicted']))"
   ]
  }
 ],
 "metadata": {
  "accelerator": "GPU",
  "colab": {
   "collapsed_sections": [],
   "name": "word_seq2seq_bi.ipynb",
   "provenance": []
  },
  "kernelspec": {
   "display_name": "Python 3",
   "language": "python",
   "name": "python3"
  },
  "language_info": {
   "codemirror_mode": {
    "name": "ipython",
    "version": 3
   },
   "file_extension": ".py",
   "mimetype": "text/x-python",
   "name": "python",
   "nbconvert_exporter": "python",
   "pygments_lexer": "ipython3",
   "version": "3.7.7"
  }
 },
 "nbformat": 4,
 "nbformat_minor": 1
}
