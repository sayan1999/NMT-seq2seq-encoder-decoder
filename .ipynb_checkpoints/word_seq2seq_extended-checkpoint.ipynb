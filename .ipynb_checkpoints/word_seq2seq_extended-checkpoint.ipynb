{
 "cells": [
  {
   "cell_type": "code",
   "execution_count": 287,
   "metadata": {
    "colab": {
     "base_uri": "https://localhost:8080/",
     "height": 85
    },
    "colab_type": "code",
    "id": "zMy7gQFI9qXy",
    "outputId": "df7f29da-f88b-45bb-d237-02828129a120"
   },
   "outputs": [
    {
     "name": "stdout",
     "output_type": "stream",
     "text": [
      "Requirement already satisfied: bidict in /usr/local/lib/python3.6/dist-packages (0.20.0)\n",
      "[nltk_data] Downloading package punkt to /root/nltk_data...\n",
      "[nltk_data]   Package punkt is already up-to-date!\n"
     ]
    },
    {
     "data": {
      "text/plain": [
       "True"
      ]
     },
     "execution_count": 287,
     "metadata": {
      "tags": []
     },
     "output_type": "execute_result"
    }
   ],
   "source": [
    "!pip install bidict\n",
    "import nltk\n",
    "nltk.download('punkt')"
   ]
  },
  {
   "cell_type": "code",
   "execution_count": 288,
   "metadata": {
    "colab": {},
    "colab_type": "code",
    "id": "aLt_9sNL9qX9"
   },
   "outputs": [],
   "source": [
    "import pandas as pd\n",
    "import numpy as np\n",
    "import random\n",
    "import re, os, difflib\n",
    "from matplotlib import pyplot as plt\n",
    "from sklearn.utils import shuffle\n",
    "from sklearn.model_selection import train_test_split\n",
    "from tensorflow.keras.layers import Input, LSTM, Embedding, Dense\n",
    "from tensorflow.keras.models import Model, Sequential\n",
    "import tensorflow as tf\n",
    "from nltk import word_tokenize\n",
    "from gensim.models import Word2Vec\n",
    "from sklearn.preprocessing import OneHotEncoder\n",
    "from bidict import bidict\n",
    "from tensorflow.keras.preprocessing.sequence import pad_sequences\n",
    "from sklearn.metrics import classification_report\n",
    "from tensorflow.keras.callbacks import TensorBoard"
   ]
  },
  {
   "cell_type": "code",
   "execution_count": 289,
   "metadata": {
    "colab": {},
    "colab_type": "code",
    "id": "osRUcUVb9qYA"
   },
   "outputs": [],
   "source": [
    "# parameters\n",
    "# if running on colab turn this false, and select GPU runtime\n",
    "batch_size=32 if not tf.test.is_gpu_available() else 256\n",
    "colab=True\n",
    "training=True\n",
    "validation=True\n",
    "ctx_vec_len=128\n",
    "embedding_dim=128\n",
    "epochs=200\n",
    "no_of_tests=1000\n",
    "dropout=0"
   ]
  },
  {
   "cell_type": "code",
   "execution_count": 290,
   "metadata": {
    "colab": {
     "base_uri": "https://localhost:8080/",
     "height": 225
    },
    "colab_type": "code",
    "id": "wf7r24jQ9qYH",
    "outputId": "4190c649-1225-4e48-a0e1-a6fd837fc1c6"
   },
   "outputs": [
    {
     "data": {
      "text/markdown": [
       "## Architecture For Neural Machine Trans\n",
       "![Architecture Neural Machine Trans](data:image/png;base64,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)"
      ],
      "text/plain": [
       "<IPython.core.display.Markdown object>"
      ]
     },
     "metadata": {
      "tags": []
     },
     "output_type": "display_data"
    }
   ],
   "source": [
    "from IPython.display import display, Markdown\n",
    "if not colab:\n",
    "    display(Markdown('''## Architecture For Neural Machine Trans\n",
    "![Architecture Neural Machine Trans](image/NeuralMachineTrans.png)'''))\n",
    "    \n",
    "else:\n",
    "    display(Markdown('''## Architecture For Neural Machine Trans\n",
    "![Architecture Neural Machine Trans](data:image/png;base64,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)'''))"
   ]
  },
  {
   "cell_type": "code",
   "execution_count": 291,
   "metadata": {
    "colab": {
     "base_uri": "https://localhost:8080/",
     "height": 34
    },
    "colab_type": "code",
    "id": "cJ9Cfl5D9qYN",
    "outputId": "fb7cde5f-deca-46ee-dd5c-7df83792e630"
   },
   "outputs": [
    {
     "name": "stdout",
     "output_type": "stream",
     "text": [
      "Drive already mounted at /content/drive; to attempt to forcibly remount, call drive.mount(\"/content/drive\", force_remount=True).\n"
     ]
    }
   ],
   "source": [
    "if not colab:\n",
    "    # if on local machine \n",
    "    root_dir='.'\n",
    "    \n",
    "else:\n",
    "    # if using google colab use this code\n",
    "    from google.colab import drive\n",
    "    drive.mount('/content/drive')\n",
    "    root_dir = \"/content/drive/My Drive/Colab Notebooks\""
   ]
  },
  {
   "cell_type": "code",
   "execution_count": 292,
   "metadata": {
    "colab": {},
    "colab_type": "code",
    "id": "Ct0UBp8y9qYS"
   },
   "outputs": [],
   "source": [
    "data_path = os.path.join(root_dir, \"fra.csv\")\n",
    "doc = pd.read_csv(data_path, nrows=1000)\n",
    "# shuffle dataset"
   ]
  },
  {
   "cell_type": "code",
   "execution_count": 293,
   "metadata": {
    "colab": {},
    "colab_type": "code",
    "id": "tvVhQmsq9qYY"
   },
   "outputs": [],
   "source": [
    "# replace contracted forms for english words\n",
    "contracted_dict={\"won't\" : \"will not\", \"can\\'t\" : \"can not\", \"n\\'t\" : \" not\", \"\\'re\" : \" are\", \"\\'s\" : \" is\", \"\\'d\" : \" would\", \"\\'ll\" : \" will\", \"\\'t\" : \" not\", \"\\'ve\" : \" have\", \"\\'m\" : \" am\"}\n",
    "\n",
    "def replace_contracted(text):\n",
    "\n",
    "    regex = re.compile(\"|\".join(map(re.escape, contracted_dict.keys(  ))))\n",
    "    return regex.sub(lambda match: contracted_dict[match.group(0)], text)"
   ]
  },
  {
   "cell_type": "code",
   "execution_count": 294,
   "metadata": {
    "colab": {},
    "colab_type": "code",
    "id": "WPWsAj-u9qYd"
   },
   "outputs": [],
   "source": [
    "# apply decontraction and lowercase\n",
    "doc=doc.apply(np.vectorize(lambda sent : replace_contracted(str(sent).strip().lower())))"
   ]
  },
  {
   "cell_type": "code",
   "execution_count": 295,
   "metadata": {
    "colab": {},
    "colab_type": "code",
    "id": "54f6A85j9qYg"
   },
   "outputs": [],
   "source": [
    "# tokenize sentences and add start_ and _end keyword to target sentences\n",
    "source_sents=doc.Source.apply(lambda x: x + ' _END').apply(lambda sent: word_tokenize(sent))\n",
    "target_sents=doc.Target.apply(lambda x : 'START_ '+ x + ' _END').apply(lambda sent: word_tokenize(sent))\n",
    "temp = list(zip(source_sents, target_sents)) \n",
    "random.shuffle(temp) \n",
    "source_sents, target_sents = zip(*temp)\n",
    "source_sents, target_sents = pd.Series(source_sents), pd.Series(target_sents)"
   ]
  },
  {
   "cell_type": "code",
   "execution_count": 296,
   "metadata": {
    "colab": {},
    "colab_type": "code",
    "id": "c0PwKMAA9qYj",
    "scrolled": true
   },
   "outputs": [],
   "source": [
    "# building the vocabulary\n",
    "source_vocab=set().union(*source_sents)\n",
    "target_vocab=set().union(*target_sents)"
   ]
  },
  {
   "cell_type": "code",
   "execution_count": 297,
   "metadata": {
    "colab": {},
    "colab_type": "code",
    "id": "KSuPWE2C9qYo"
   },
   "outputs": [],
   "source": [
    "# max sentence length for each language in the dataset\n",
    "max_source_len=max(source_sents.apply(len))\n",
    "max_target_len=max(target_sents.apply(len))"
   ]
  },
  {
   "cell_type": "code",
   "execution_count": 298,
   "metadata": {
    "colab": {},
    "colab_type": "code",
    "id": "Yhpt_X7Y9qYr"
   },
   "outputs": [],
   "source": [
    "# numeric identity for each word in vocab\n",
    "source_wordint_rel=bidict(enumerate(source_vocab, 1))\n",
    "temp={0:'paddingZero'}\n",
    "temp.update(dict(enumerate(target_vocab, 1)))\n",
    "target_wordint_rel=bidict(temp)"
   ]
  },
  {
   "cell_type": "code",
   "execution_count": 299,
   "metadata": {
    "colab": {},
    "colab_type": "code",
    "id": "h0_0s05X9qYv"
   },
   "outputs": [],
   "source": [
    "# prepare inputs and outputs\n",
    "encoder_source_arr=[list(map(lambda word : source_wordint_rel.inv[word], sent)) for sent in source_sents]\n",
    "decoder_source_arr=[list(map(lambda word : target_wordint_rel.inv[word], sent)) for sent in target_sents]\n",
    "decoder_output_arr=[list(map(lambda word : target_wordint_rel.inv[word], sent[1:])) for sent in target_sents]"
   ]
  },
  {
   "cell_type": "code",
   "execution_count": 300,
   "metadata": {
    "colab": {},
    "colab_type": "code",
    "id": "WtaBqNMZ9qYy",
    "scrolled": true
   },
   "outputs": [],
   "source": [
    "# pad the inputs and outputs to max length\n",
    "padded_encoder_source_arr=pad_sequences(encoder_source_arr, maxlen=max_source_len, padding='post')\n",
    "padded_decoder_source_arr=pad_sequences(decoder_source_arr, maxlen=max_target_len, padding='post')\n",
    "padded_decoder_output_arr=pad_sequences(decoder_output_arr, maxlen=max_target_len, padding='post')\n",
    "onehotted_decoder_output_arr=tf.one_hot(padded_decoder_output_arr, len(target_vocab)+1).numpy()"
   ]
  },
  {
   "cell_type": "markdown",
   "metadata": {
    "colab_type": "text",
    "id": "T9AF9kdc9qY1"
   },
   "source": [
    "# Model Preparation"
   ]
  },
  {
   "cell_type": "code",
   "execution_count": 301,
   "metadata": {
    "colab": {},
    "colab_type": "code",
    "id": "YH3L903Z9qY2"
   },
   "outputs": [],
   "source": [
    "# context-vector length\n",
    "latent_dim=ctx_vec_len\n",
    "\n",
    "# this is the source languge consumtion layer\n",
    "encoder_inputs = Input(shape=(None,), name='encoder_sources')\n",
    "# embed the 2-d source into 3-d\n",
    "enc_emb =  Embedding(len(source_vocab)+1, embedding_dim, mask_zero = True, name='enc_emb')(encoder_inputs)\n",
    "\n",
    "# LSTM layer to encode the source sentence into context-vector representation\n",
    "encoder_lstm = LSTM(latent_dim, return_state=True, return_sequences=True, name='encoder_lstm1', dropout=dropout)\n",
    "encoder_outputs, state_h, state_c = encoder_lstm(enc_emb)\n",
    "\n",
    "encoder_lstm = LSTM(latent_dim, return_state=True, name='encoder_lstm2', dropout=dropout)\n",
    "encoder_outputs, state_h, state_c = encoder_lstm(enc_emb, initial_state=[state_h, state_c])\n",
    "\n",
    "# encoded-states tensor stores the context-vector\n",
    "encoder_states = [state_h, state_c]"
   ]
  },
  {
   "cell_type": "code",
   "execution_count": 302,
   "metadata": {
    "colab": {},
    "colab_type": "code",
    "id": "WOssNVT79qY6"
   },
   "outputs": [],
   "source": [
    "# this is the target languge consumtion layer\n",
    "decoder_inputs = Input(shape=(None,), name='decoder_sources')\n",
    "# embed the 2-d source into 3-d\n",
    "dec_emb_layer = Embedding(len(target_vocab)+1, embedding_dim, mask_zero = True, name='dec_emb_layer')\n",
    "dec_emb = dec_emb_layer(decoder_inputs)\n",
    "\n",
    "# decoder LSTM, this takes in the context-vector and starting or so-far decoded part of the target sentence\n",
    "decoder_lstm1 = LSTM(latent_dim, return_sequences=True name='decoder_lstm1', dropout=dropout)\n",
    "decoder_outputs = decoder_lstm1(dec_emb)\n",
    "decoder_lstm2 = LSTM(latent_dim, return_sequences=True name='decoder_lstm2', dropout=dropout)\n",
    "decoder_outputs = decoder_lstm1(decoder_outputs)\n",
    "decoder_lstm = LSTM(latent_dim, return_sequences=True, return_state=True, name='decoder_lstm', dropout=dropout)\n",
    "decoder_outputs, _, _ = decoder_lstm(dec_emb, initial_state=encoder_states)\n",
    "\n",
    "# final layer that gives a probabilty distribution of the next possible words\n",
    "decoder_dense = Dense(len(target_vocab)+1, activation='softmax', name='decoder_dense')\n",
    "decoder_outputs = decoder_dense(decoder_outputs)"
   ]
  },
  {
   "cell_type": "code",
   "execution_count": 303,
   "metadata": {
    "colab": {
     "base_uri": "https://localhost:8080/",
     "height": 544
    },
    "colab_type": "code",
    "id": "tiYu7bVY9qY9",
    "outputId": "9f431bcd-61a3-47b9-b1b3-efd785d367c5"
   },
   "outputs": [
    {
     "name": "stdout",
     "output_type": "stream",
     "text": [
      "Model: \"Model_Translation\"\n",
      "__________________________________________________________________________________________________\n",
      "Layer (type)                    Output Shape         Param #     Connected to                     \n",
      "==================================================================================================\n",
      "decoder_sources (InputLayer)    [(None, None)]       0                                            \n",
      "__________________________________________________________________________________________________\n",
      "encoder_sources (InputLayer)    [(None, None)]       0                                            \n",
      "__________________________________________________________________________________________________\n",
      "dec_emb_layer (Embedding)       (None, None, 128)    103424      decoder_sources[0][0]            \n",
      "__________________________________________________________________________________________________\n",
      "enc_emb (Embedding)             (None, None, 128)    48000       encoder_sources[0][0]            \n",
      "__________________________________________________________________________________________________\n",
      "decoder_lstm1 (LSTM)            (None, None, 128)    131584      dec_emb_layer[0][0]              \n",
      "                                                                 decoder_lstm1[0][0]              \n",
      "__________________________________________________________________________________________________\n",
      "encoder_lstm1 (LSTM)            [(None, None, 128),  131584      enc_emb[0][0]                    \n",
      "__________________________________________________________________________________________________\n",
      "encoder_lstm2 (LSTM)            [(None, 128), (None, 131584      enc_emb[0][0]                    \n",
      "                                                                 encoder_lstm1[0][1]              \n",
      "                                                                 encoder_lstm1[0][2]              \n",
      "__________________________________________________________________________________________________\n",
      "decoder_lstm (LSTM)             [(None, None, 128),  131584      decoder_lstm1[1][0]              \n",
      "                                                                 encoder_lstm2[0][1]              \n",
      "                                                                 encoder_lstm2[0][2]              \n",
      "__________________________________________________________________________________________________\n",
      "decoder_dense (Dense)           (None, None, 808)    104232      decoder_lstm[0][0]               \n",
      "==================================================================================================\n",
      "Total params: 781,992\n",
      "Trainable params: 781,992\n",
      "Non-trainable params: 0\n",
      "__________________________________________________________________________________________________\n"
     ]
    }
   ],
   "source": [
    "# model building and summary\n",
    "model = Model([encoder_inputs, decoder_inputs], decoder_outputs, name='Model_Translation')\n",
    "model.compile(optimizer='Adam', loss='categorical_crossentropy', metrics=['acc'])\n",
    "model.summary()"
   ]
  },
  {
   "cell_type": "markdown",
   "metadata": {
    "colab_type": "text",
    "id": "KhM0qIxr9qZA"
   },
   "source": [
    "# Training"
   ]
  },
  {
   "cell_type": "code",
   "execution_count": 304,
   "metadata": {
    "colab": {},
    "colab_type": "code",
    "id": "g_dxY6fL9qZB"
   },
   "outputs": [],
   "source": [
    "# TensorBoard Callback \n",
    "tbCallBack = TensorBoard(log_dir=os.path.join(root_dir, 'Graph'), histogram_freq=0, write_graph=True, write_images=True)"
   ]
  },
  {
   "cell_type": "code",
   "execution_count": 305,
   "metadata": {
    "colab": {
     "base_uri": "https://localhost:8080/",
     "height": 1000
    },
    "colab_type": "code",
    "id": "6SsaUZXF9qZF",
    "outputId": "b1f216bc-4b2d-4490-e749-336fb0b95320",
    "scrolled": true
   },
   "outputs": [
    {
     "name": "stdout",
     "output_type": "stream",
     "text": [
      "Epoch 1/200\n",
      "2/4 [==============>...............] - ETA: 0s - loss: 3.3460 - acc: 0.0913    WARNING:tensorflow:Callbacks method `on_train_batch_end` is slow compared to the batch time (batch time: 0.0751s vs `on_train_batch_end` time: 0.8025s). Check your callbacks.\n",
      "4/4 [==============================] - 8s 2s/step - loss: 3.3101 - acc: 0.1359 - val_loss: 3.2444 - val_acc: 0.1869\n",
      "Epoch 2/200\n",
      "4/4 [==============================] - 0s 55ms/step - loss: 3.2923 - acc: 0.1837 - val_loss: 3.2114 - val_acc: 0.1869\n",
      "Epoch 3/200\n",
      "4/4 [==============================] - 0s 55ms/step - loss: 3.2353 - acc: 0.1837 - val_loss: 3.0926 - val_acc: 0.1869\n",
      "Epoch 4/200\n",
      "4/4 [==============================] - 0s 59ms/step - loss: 3.0267 - acc: 0.1837 - val_loss: 2.7074 - val_acc: 0.1869\n",
      "Epoch 5/200\n",
      "4/4 [==============================] - 0s 56ms/step - loss: 2.5349 - acc: 0.1837 - val_loss: 2.1864 - val_acc: 0.1869\n",
      "Epoch 6/200\n",
      "4/4 [==============================] - 0s 57ms/step - loss: 2.0743 - acc: 0.1837 - val_loss: 1.9552 - val_acc: 0.1869\n",
      "Epoch 7/200\n",
      "4/4 [==============================] - 0s 56ms/step - loss: 1.9190 - acc: 0.1837 - val_loss: 1.9243 - val_acc: 0.2243\n",
      "Epoch 8/200\n",
      "4/4 [==============================] - 0s 57ms/step - loss: 1.8873 - acc: 0.2511 - val_loss: 1.9136 - val_acc: 0.2710\n",
      "Epoch 9/200\n",
      "4/4 [==============================] - 0s 63ms/step - loss: 1.8555 - acc: 0.2654 - val_loss: 1.8884 - val_acc: 0.2710\n",
      "Epoch 10/200\n",
      "4/4 [==============================] - 0s 56ms/step - loss: 1.8150 - acc: 0.2811 - val_loss: 1.8720 - val_acc: 0.2804\n",
      "Epoch 11/200\n",
      "4/4 [==============================] - 0s 57ms/step - loss: 1.7878 - acc: 0.2920 - val_loss: 1.8673 - val_acc: 0.3084\n",
      "Epoch 12/200\n",
      "4/4 [==============================] - 0s 55ms/step - loss: 1.7737 - acc: 0.3075 - val_loss: 1.8621 - val_acc: 0.3084\n",
      "Epoch 13/200\n",
      "4/4 [==============================] - 0s 58ms/step - loss: 1.7602 - acc: 0.3319 - val_loss: 1.8537 - val_acc: 0.3551\n",
      "Epoch 14/200\n",
      "4/4 [==============================] - 0s 58ms/step - loss: 1.7438 - acc: 0.3291 - val_loss: 1.8439 - val_acc: 0.3645\n",
      "Epoch 15/200\n",
      "4/4 [==============================] - 0s 59ms/step - loss: 1.7278 - acc: 0.3308 - val_loss: 1.8357 - val_acc: 0.3832\n",
      "Epoch 16/200\n",
      "4/4 [==============================] - 0s 59ms/step - loss: 1.7134 - acc: 0.3426 - val_loss: 1.8246 - val_acc: 0.3645\n",
      "Epoch 17/200\n",
      "4/4 [==============================] - 0s 57ms/step - loss: 1.6986 - acc: 0.3480 - val_loss: 1.8148 - val_acc: 0.3645\n",
      "Epoch 18/200\n",
      "4/4 [==============================] - 0s 56ms/step - loss: 1.6822 - acc: 0.3519 - val_loss: 1.8022 - val_acc: 0.3832\n",
      "Epoch 19/200\n",
      "4/4 [==============================] - 0s 55ms/step - loss: 1.6650 - acc: 0.3795 - val_loss: 1.7865 - val_acc: 0.4112\n",
      "Epoch 20/200\n",
      "4/4 [==============================] - 0s 55ms/step - loss: 1.6478 - acc: 0.3907 - val_loss: 1.7657 - val_acc: 0.3832\n",
      "Epoch 21/200\n",
      "4/4 [==============================] - 0s 57ms/step - loss: 1.6314 - acc: 0.3739 - val_loss: 1.7543 - val_acc: 0.4112\n",
      "Epoch 22/200\n",
      "4/4 [==============================] - 0s 55ms/step - loss: 1.6146 - acc: 0.4155 - val_loss: 1.7397 - val_acc: 0.4206\n",
      "Epoch 23/200\n",
      "4/4 [==============================] - 0s 59ms/step - loss: 1.5981 - acc: 0.4155 - val_loss: 1.7270 - val_acc: 0.4393\n",
      "Epoch 24/200\n",
      "4/4 [==============================] - 0s 57ms/step - loss: 1.5797 - acc: 0.4571 - val_loss: 1.7096 - val_acc: 0.4486\n",
      "Epoch 25/200\n",
      "4/4 [==============================] - 0s 57ms/step - loss: 1.5603 - acc: 0.4605 - val_loss: 1.6973 - val_acc: 0.4673\n",
      "Epoch 26/200\n",
      "4/4 [==============================] - 0s 60ms/step - loss: 1.5411 - acc: 0.4918 - val_loss: 1.6801 - val_acc: 0.4579\n",
      "Epoch 27/200\n",
      "4/4 [==============================] - 0s 53ms/step - loss: 1.5223 - acc: 0.4993 - val_loss: 1.6648 - val_acc: 0.4860\n",
      "Epoch 28/200\n",
      "4/4 [==============================] - 0s 57ms/step - loss: 1.5033 - acc: 0.5073 - val_loss: 1.6542 - val_acc: 0.4860\n",
      "Epoch 29/200\n",
      "4/4 [==============================] - 0s 56ms/step - loss: 1.4854 - acc: 0.5144 - val_loss: 1.6370 - val_acc: 0.4860\n",
      "Epoch 30/200\n",
      "4/4 [==============================] - 0s 57ms/step - loss: 1.4680 - acc: 0.5159 - val_loss: 1.6223 - val_acc: 0.4953\n",
      "Epoch 31/200\n",
      "4/4 [==============================] - 0s 56ms/step - loss: 1.4514 - acc: 0.5182 - val_loss: 1.6066 - val_acc: 0.4953\n",
      "Epoch 32/200\n",
      "4/4 [==============================] - 0s 58ms/step - loss: 1.4358 - acc: 0.5195 - val_loss: 1.5967 - val_acc: 0.5140\n",
      "Epoch 33/200\n",
      "4/4 [==============================] - 0s 56ms/step - loss: 1.4203 - acc: 0.5388 - val_loss: 1.5822 - val_acc: 0.5047\n",
      "Epoch 34/200\n",
      "4/4 [==============================] - 0s 56ms/step - loss: 1.4052 - acc: 0.5412 - val_loss: 1.5739 - val_acc: 0.5234\n",
      "Epoch 35/200\n",
      "4/4 [==============================] - 0s 57ms/step - loss: 1.3903 - acc: 0.5425 - val_loss: 1.5614 - val_acc: 0.5327\n",
      "Epoch 36/200\n",
      "4/4 [==============================] - 0s 56ms/step - loss: 1.3757 - acc: 0.5446 - val_loss: 1.5531 - val_acc: 0.5327\n",
      "Epoch 37/200\n",
      "4/4 [==============================] - 0s 59ms/step - loss: 1.3616 - acc: 0.5454 - val_loss: 1.5431 - val_acc: 0.5421\n",
      "Epoch 38/200\n",
      "4/4 [==============================] - 0s 57ms/step - loss: 1.3474 - acc: 0.5465 - val_loss: 1.5344 - val_acc: 0.5327\n",
      "Epoch 39/200\n",
      "4/4 [==============================] - 0s 59ms/step - loss: 1.3335 - acc: 0.5528 - val_loss: 1.5251 - val_acc: 0.5327\n",
      "Epoch 40/200\n",
      "4/4 [==============================] - 0s 58ms/step - loss: 1.3198 - acc: 0.5587 - val_loss: 1.5206 - val_acc: 0.5234\n",
      "Epoch 41/200\n",
      "4/4 [==============================] - 0s 56ms/step - loss: 1.3064 - acc: 0.5594 - val_loss: 1.5139 - val_acc: 0.5234\n",
      "Epoch 42/200\n",
      "4/4 [==============================] - 0s 57ms/step - loss: 1.2933 - acc: 0.5602 - val_loss: 1.5042 - val_acc: 0.5234\n",
      "Epoch 43/200\n",
      "4/4 [==============================] - 0s 57ms/step - loss: 1.2804 - acc: 0.5609 - val_loss: 1.4970 - val_acc: 0.5234\n",
      "Epoch 44/200\n",
      "4/4 [==============================] - 0s 55ms/step - loss: 1.2676 - acc: 0.5637 - val_loss: 1.4917 - val_acc: 0.5327\n",
      "Epoch 45/200\n",
      "4/4 [==============================] - 0s 54ms/step - loss: 1.2555 - acc: 0.5677 - val_loss: 1.4809 - val_acc: 0.5514\n",
      "Epoch 46/200\n",
      "4/4 [==============================] - 0s 57ms/step - loss: 1.2434 - acc: 0.5699 - val_loss: 1.4748 - val_acc: 0.5421\n",
      "Epoch 47/200\n",
      "4/4 [==============================] - 0s 58ms/step - loss: 1.2318 - acc: 0.5714 - val_loss: 1.4690 - val_acc: 0.5514\n",
      "Epoch 48/200\n",
      "4/4 [==============================] - 0s 56ms/step - loss: 1.2205 - acc: 0.5720 - val_loss: 1.4633 - val_acc: 0.5514\n",
      "Epoch 49/200\n",
      "4/4 [==============================] - 0s 58ms/step - loss: 1.2100 - acc: 0.5723 - val_loss: 1.4577 - val_acc: 0.5607\n",
      "Epoch 50/200\n",
      "4/4 [==============================] - 0s 57ms/step - loss: 1.1995 - acc: 0.5735 - val_loss: 1.4502 - val_acc: 0.5607\n",
      "Epoch 51/200\n",
      "4/4 [==============================] - 0s 55ms/step - loss: 1.1896 - acc: 0.5738 - val_loss: 1.4436 - val_acc: 0.5607\n",
      "Epoch 52/200\n",
      "4/4 [==============================] - 0s 54ms/step - loss: 1.1800 - acc: 0.5748 - val_loss: 1.4388 - val_acc: 0.5607\n",
      "Epoch 53/200\n",
      "4/4 [==============================] - 0s 56ms/step - loss: 1.1708 - acc: 0.5766 - val_loss: 1.4392 - val_acc: 0.5421\n",
      "Epoch 54/200\n",
      "4/4 [==============================] - 0s 58ms/step - loss: 1.1620 - acc: 0.5780 - val_loss: 1.4276 - val_acc: 0.5794\n",
      "Epoch 55/200\n",
      "4/4 [==============================] - 0s 54ms/step - loss: 1.1539 - acc: 0.5795 - val_loss: 1.4364 - val_acc: 0.5607\n",
      "Epoch 56/200\n",
      "4/4 [==============================] - 0s 58ms/step - loss: 1.1449 - acc: 0.5800 - val_loss: 1.4274 - val_acc: 0.5421\n",
      "Epoch 57/200\n",
      "4/4 [==============================] - 0s 55ms/step - loss: 1.1369 - acc: 0.5815 - val_loss: 1.4364 - val_acc: 0.5607\n",
      "Epoch 58/200\n",
      "4/4 [==============================] - 0s 57ms/step - loss: 1.1303 - acc: 0.5823 - val_loss: 1.4143 - val_acc: 0.5794\n",
      "Epoch 59/200\n",
      "4/4 [==============================] - 0s 55ms/step - loss: 1.1221 - acc: 0.5826 - val_loss: 1.4182 - val_acc: 0.5421\n",
      "Epoch 60/200\n",
      "4/4 [==============================] - 0s 58ms/step - loss: 1.1146 - acc: 0.5834 - val_loss: 1.4245 - val_acc: 0.5701\n",
      "Epoch 61/200\n",
      "4/4 [==============================] - 0s 56ms/step - loss: 1.1067 - acc: 0.5851 - val_loss: 1.4194 - val_acc: 0.5607\n",
      "Epoch 62/200\n",
      "4/4 [==============================] - 0s 54ms/step - loss: 1.0987 - acc: 0.5856 - val_loss: 1.4204 - val_acc: 0.5607\n",
      "Epoch 63/200\n",
      "4/4 [==============================] - 0s 59ms/step - loss: 1.0919 - acc: 0.5870 - val_loss: 1.4126 - val_acc: 0.5701\n",
      "Epoch 64/200\n",
      "4/4 [==============================] - 0s 57ms/step - loss: 1.0844 - acc: 0.5888 - val_loss: 1.4191 - val_acc: 0.5701\n",
      "Epoch 65/200\n",
      "4/4 [==============================] - 0s 55ms/step - loss: 1.0775 - acc: 0.5909 - val_loss: 1.4343 - val_acc: 0.5701\n",
      "Epoch 66/200\n",
      "4/4 [==============================] - 0s 56ms/step - loss: 1.0706 - acc: 0.5950 - val_loss: 1.4266 - val_acc: 0.5701\n",
      "Epoch 67/200\n",
      "4/4 [==============================] - 0s 57ms/step - loss: 1.0634 - acc: 0.5976 - val_loss: 1.4213 - val_acc: 0.5701\n",
      "Epoch 68/200\n",
      "4/4 [==============================] - 0s 57ms/step - loss: 1.0564 - acc: 0.5984 - val_loss: 1.4184 - val_acc: 0.5701\n",
      "Epoch 69/200\n",
      "4/4 [==============================] - 0s 57ms/step - loss: 1.0496 - acc: 0.6004 - val_loss: 1.4204 - val_acc: 0.5701\n",
      "Epoch 70/200\n",
      "4/4 [==============================] - 0s 58ms/step - loss: 1.0433 - acc: 0.6044 - val_loss: 1.4432 - val_acc: 0.5607\n",
      "Epoch 71/200\n",
      "4/4 [==============================] - 0s 58ms/step - loss: 1.0365 - acc: 0.6066 - val_loss: 1.4266 - val_acc: 0.5701\n",
      "Epoch 72/200\n",
      "4/4 [==============================] - 0s 54ms/step - loss: 1.0306 - acc: 0.6076 - val_loss: 1.4249 - val_acc: 0.5701\n",
      "Epoch 73/200\n",
      "4/4 [==============================] - 0s 55ms/step - loss: 1.0247 - acc: 0.6078 - val_loss: 1.4597 - val_acc: 0.5514\n",
      "Epoch 74/200\n",
      "4/4 [==============================] - 0s 58ms/step - loss: 1.0188 - acc: 0.6104 - val_loss: 1.4392 - val_acc: 0.5514\n",
      "Epoch 75/200\n",
      "4/4 [==============================] - 0s 55ms/step - loss: 1.0126 - acc: 0.6108 - val_loss: 1.4457 - val_acc: 0.5421\n",
      "Epoch 76/200\n",
      "4/4 [==============================] - 0s 55ms/step - loss: 1.0067 - acc: 0.6134 - val_loss: 1.4627 - val_acc: 0.5514\n",
      "Epoch 77/200\n",
      "4/4 [==============================] - 0s 56ms/step - loss: 1.0011 - acc: 0.6132 - val_loss: 1.4566 - val_acc: 0.5514\n",
      "Epoch 78/200\n",
      "4/4 [==============================] - 0s 58ms/step - loss: 0.9955 - acc: 0.6139 - val_loss: 1.4071 - val_acc: 0.5607\n",
      "Epoch 79/200\n",
      "4/4 [==============================] - 0s 55ms/step - loss: 0.9909 - acc: 0.6171 - val_loss: 1.4548 - val_acc: 0.5421\n",
      "Epoch 80/200\n",
      "4/4 [==============================] - 0s 57ms/step - loss: 0.9850 - acc: 0.6199 - val_loss: 1.4823 - val_acc: 0.5514\n",
      "Epoch 81/200\n",
      "4/4 [==============================] - 0s 58ms/step - loss: 0.9799 - acc: 0.6201 - val_loss: 1.4161 - val_acc: 0.5701\n",
      "Epoch 82/200\n",
      "4/4 [==============================] - 0s 55ms/step - loss: 0.9744 - acc: 0.6231 - val_loss: 1.4566 - val_acc: 0.5514\n",
      "Epoch 83/200\n",
      "4/4 [==============================] - 0s 55ms/step - loss: 0.9695 - acc: 0.6218 - val_loss: 1.4505 - val_acc: 0.5514\n",
      "Epoch 84/200\n",
      "4/4 [==============================] - 0s 57ms/step - loss: 0.9637 - acc: 0.6250 - val_loss: 1.4196 - val_acc: 0.5607\n",
      "Epoch 85/200\n",
      "4/4 [==============================] - 0s 61ms/step - loss: 0.9587 - acc: 0.6259 - val_loss: 1.4623 - val_acc: 0.5514\n",
      "Epoch 86/200\n",
      "4/4 [==============================] - 0s 56ms/step - loss: 0.9531 - acc: 0.6301 - val_loss: 1.4254 - val_acc: 0.5607\n",
      "Epoch 87/200\n",
      "4/4 [==============================] - 0s 56ms/step - loss: 0.9472 - acc: 0.6310 - val_loss: 1.4129 - val_acc: 0.5701\n",
      "Epoch 88/200\n",
      "4/4 [==============================] - 0s 58ms/step - loss: 0.9416 - acc: 0.6347 - val_loss: 1.4455 - val_acc: 0.5514\n",
      "Epoch 89/200\n",
      "4/4 [==============================] - 0s 54ms/step - loss: 0.9364 - acc: 0.6321 - val_loss: 1.4173 - val_acc: 0.5701\n",
      "Epoch 90/200\n",
      "4/4 [==============================] - 0s 54ms/step - loss: 0.9311 - acc: 0.6351 - val_loss: 1.4256 - val_acc: 0.5607\n",
      "Epoch 91/200\n",
      "4/4 [==============================] - 0s 60ms/step - loss: 0.9256 - acc: 0.6336 - val_loss: 1.4280 - val_acc: 0.5514\n",
      "Epoch 92/200\n",
      "4/4 [==============================] - 0s 57ms/step - loss: 0.9207 - acc: 0.6387 - val_loss: 1.3950 - val_acc: 0.5701\n",
      "Epoch 93/200\n",
      "4/4 [==============================] - 0s 55ms/step - loss: 0.9154 - acc: 0.6392 - val_loss: 1.4123 - val_acc: 0.5701\n",
      "Epoch 94/200\n",
      "4/4 [==============================] - 0s 55ms/step - loss: 0.9092 - acc: 0.6434 - val_loss: 1.4096 - val_acc: 0.5701\n",
      "Epoch 95/200\n",
      "4/4 [==============================] - 0s 62ms/step - loss: 0.9037 - acc: 0.6430 - val_loss: 1.4075 - val_acc: 0.5701\n",
      "Epoch 96/200\n",
      "4/4 [==============================] - 0s 54ms/step - loss: 0.8978 - acc: 0.6451 - val_loss: 1.3973 - val_acc: 0.5701\n",
      "Epoch 97/200\n",
      "4/4 [==============================] - 0s 54ms/step - loss: 0.8929 - acc: 0.6499 - val_loss: 1.4387 - val_acc: 0.5514\n",
      "Epoch 98/200\n",
      "4/4 [==============================] - 0s 57ms/step - loss: 0.8875 - acc: 0.6510 - val_loss: 1.4087 - val_acc: 0.5701\n",
      "Epoch 99/200\n",
      "4/4 [==============================] - 0s 57ms/step - loss: 0.8821 - acc: 0.6503 - val_loss: 1.3875 - val_acc: 0.5701\n",
      "Epoch 100/200\n",
      "4/4 [==============================] - 0s 56ms/step - loss: 0.8761 - acc: 0.6529 - val_loss: 1.3901 - val_acc: 0.5701\n",
      "Epoch 101/200\n",
      "4/4 [==============================] - 0s 57ms/step - loss: 0.8704 - acc: 0.6552 - val_loss: 1.4041 - val_acc: 0.5701\n",
      "Epoch 102/200\n",
      "4/4 [==============================] - 0s 61ms/step - loss: 0.8648 - acc: 0.6554 - val_loss: 1.3921 - val_acc: 0.5701\n",
      "Epoch 103/200\n",
      "4/4 [==============================] - 0s 57ms/step - loss: 0.8595 - acc: 0.6561 - val_loss: 1.3778 - val_acc: 0.5701\n",
      "Epoch 104/200\n",
      "4/4 [==============================] - 0s 55ms/step - loss: 0.8546 - acc: 0.6591 - val_loss: 1.3831 - val_acc: 0.5701\n",
      "Epoch 105/200\n",
      "4/4 [==============================] - 0s 57ms/step - loss: 0.8490 - acc: 0.6595 - val_loss: 1.3903 - val_acc: 0.5701\n",
      "Epoch 106/200\n",
      "4/4 [==============================] - 0s 58ms/step - loss: 0.8428 - acc: 0.6591 - val_loss: 1.3917 - val_acc: 0.5701\n",
      "Epoch 107/200\n",
      "4/4 [==============================] - 0s 57ms/step - loss: 0.8376 - acc: 0.6615 - val_loss: 1.3777 - val_acc: 0.5701\n",
      "Epoch 108/200\n",
      "4/4 [==============================] - 0s 59ms/step - loss: 0.8321 - acc: 0.6619 - val_loss: 1.3837 - val_acc: 0.5701\n",
      "Epoch 109/200\n",
      "4/4 [==============================] - 0s 60ms/step - loss: 0.8267 - acc: 0.6621 - val_loss: 1.3849 - val_acc: 0.5701\n",
      "Epoch 110/200\n",
      "4/4 [==============================] - 0s 58ms/step - loss: 0.8214 - acc: 0.6638 - val_loss: 1.3988 - val_acc: 0.5701\n",
      "Epoch 111/200\n",
      "4/4 [==============================] - 0s 60ms/step - loss: 0.8167 - acc: 0.6675 - val_loss: 1.3892 - val_acc: 0.5701\n",
      "Epoch 112/200\n",
      "4/4 [==============================] - 0s 60ms/step - loss: 0.8108 - acc: 0.6664 - val_loss: 1.3821 - val_acc: 0.5701\n",
      "Epoch 113/200\n",
      "4/4 [==============================] - 0s 58ms/step - loss: 0.8058 - acc: 0.6690 - val_loss: 1.3811 - val_acc: 0.5701\n",
      "Epoch 114/200\n",
      "4/4 [==============================] - 0s 59ms/step - loss: 0.8007 - acc: 0.6726 - val_loss: 1.3941 - val_acc: 0.5701\n",
      "Epoch 115/200\n",
      "4/4 [==============================] - 0s 58ms/step - loss: 0.7955 - acc: 0.6717 - val_loss: 1.3872 - val_acc: 0.5701\n",
      "Epoch 116/200\n",
      "4/4 [==============================] - 0s 57ms/step - loss: 0.7902 - acc: 0.6720 - val_loss: 1.3803 - val_acc: 0.5701\n",
      "Epoch 117/200\n",
      "4/4 [==============================] - 0s 57ms/step - loss: 0.7843 - acc: 0.6756 - val_loss: 1.3765 - val_acc: 0.5701\n",
      "Epoch 118/200\n",
      "4/4 [==============================] - 0s 59ms/step - loss: 0.7792 - acc: 0.6775 - val_loss: 1.3626 - val_acc: 0.5701\n",
      "Epoch 119/200\n",
      "4/4 [==============================] - 0s 61ms/step - loss: 0.7741 - acc: 0.6773 - val_loss: 1.3712 - val_acc: 0.5701\n",
      "Epoch 120/200\n",
      "4/4 [==============================] - 0s 63ms/step - loss: 0.7688 - acc: 0.6812 - val_loss: 1.3714 - val_acc: 0.5701\n",
      "Epoch 121/200\n",
      "4/4 [==============================] - 0s 56ms/step - loss: 0.7632 - acc: 0.6829 - val_loss: 1.3858 - val_acc: 0.5701\n",
      "Epoch 122/200\n",
      "4/4 [==============================] - 0s 59ms/step - loss: 0.7579 - acc: 0.6842 - val_loss: 1.3676 - val_acc: 0.5701\n",
      "Epoch 123/200\n",
      "4/4 [==============================] - 0s 56ms/step - loss: 0.7523 - acc: 0.6872 - val_loss: 1.3436 - val_acc: 0.5701\n",
      "Epoch 124/200\n",
      "4/4 [==============================] - 0s 57ms/step - loss: 0.7473 - acc: 0.6885 - val_loss: 1.3645 - val_acc: 0.5701\n",
      "Epoch 125/200\n",
      "4/4 [==============================] - 0s 58ms/step - loss: 0.7421 - acc: 0.6898 - val_loss: 1.3710 - val_acc: 0.5701\n",
      "Epoch 126/200\n",
      "4/4 [==============================] - 0s 56ms/step - loss: 0.7369 - acc: 0.6906 - val_loss: 1.3832 - val_acc: 0.5701\n",
      "Epoch 127/200\n",
      "4/4 [==============================] - 0s 56ms/step - loss: 0.7325 - acc: 0.6934 - val_loss: 1.3689 - val_acc: 0.5701\n",
      "Epoch 128/200\n",
      "4/4 [==============================] - 0s 56ms/step - loss: 0.7278 - acc: 0.6923 - val_loss: 1.3623 - val_acc: 0.5701\n",
      "Epoch 129/200\n",
      "4/4 [==============================] - 0s 60ms/step - loss: 0.7225 - acc: 0.6919 - val_loss: 1.3510 - val_acc: 0.5701\n",
      "Epoch 130/200\n",
      "4/4 [==============================] - 0s 56ms/step - loss: 0.7166 - acc: 0.6957 - val_loss: 1.3397 - val_acc: 0.5701\n",
      "Epoch 131/200\n",
      "4/4 [==============================] - 0s 54ms/step - loss: 0.7125 - acc: 0.6957 - val_loss: 1.3572 - val_acc: 0.5701\n",
      "Epoch 132/200\n",
      "4/4 [==============================] - 0s 55ms/step - loss: 0.7070 - acc: 0.6988 - val_loss: 1.3606 - val_acc: 0.5701\n",
      "Epoch 133/200\n",
      "4/4 [==============================] - 0s 57ms/step - loss: 0.7008 - acc: 0.6992 - val_loss: 1.3407 - val_acc: 0.5701\n",
      "Epoch 134/200\n",
      "4/4 [==============================] - 0s 56ms/step - loss: 0.6956 - acc: 0.7020 - val_loss: 1.3606 - val_acc: 0.5701\n",
      "Epoch 135/200\n",
      "4/4 [==============================] - 0s 55ms/step - loss: 0.6903 - acc: 0.7011 - val_loss: 1.3595 - val_acc: 0.5701\n",
      "Epoch 136/200\n",
      "4/4 [==============================] - 0s 58ms/step - loss: 0.6852 - acc: 0.7033 - val_loss: 1.3506 - val_acc: 0.5701\n",
      "Epoch 137/200\n",
      "4/4 [==============================] - 0s 56ms/step - loss: 0.6798 - acc: 0.7046 - val_loss: 1.3506 - val_acc: 0.5701\n",
      "Epoch 138/200\n",
      "4/4 [==============================] - 0s 55ms/step - loss: 0.6750 - acc: 0.7058 - val_loss: 1.3571 - val_acc: 0.5701\n",
      "Epoch 139/200\n",
      "4/4 [==============================] - 0s 55ms/step - loss: 0.6698 - acc: 0.7082 - val_loss: 1.3758 - val_acc: 0.5701\n",
      "Epoch 140/200\n",
      "4/4 [==============================] - 0s 58ms/step - loss: 0.6662 - acc: 0.7082 - val_loss: 1.3414 - val_acc: 0.5701\n",
      "Epoch 141/200\n",
      "4/4 [==============================] - 0s 60ms/step - loss: 0.6604 - acc: 0.7095 - val_loss: 1.3439 - val_acc: 0.5701\n",
      "Epoch 142/200\n",
      "4/4 [==============================] - 0s 55ms/step - loss: 0.6555 - acc: 0.7118 - val_loss: 1.3583 - val_acc: 0.5701\n",
      "Epoch 143/200\n",
      "4/4 [==============================] - 0s 59ms/step - loss: 0.6506 - acc: 0.7140 - val_loss: 1.3620 - val_acc: 0.5701\n",
      "Epoch 144/200\n",
      "4/4 [==============================] - 0s 55ms/step - loss: 0.6459 - acc: 0.7121 - val_loss: 1.3592 - val_acc: 0.5701\n",
      "Epoch 145/200\n",
      "4/4 [==============================] - 0s 57ms/step - loss: 0.6415 - acc: 0.7153 - val_loss: 1.3665 - val_acc: 0.5701\n",
      "Epoch 146/200\n",
      "4/4 [==============================] - 0s 58ms/step - loss: 0.6366 - acc: 0.7181 - val_loss: 1.3623 - val_acc: 0.5701\n",
      "Epoch 147/200\n",
      "4/4 [==============================] - 0s 56ms/step - loss: 0.6319 - acc: 0.7198 - val_loss: 1.3478 - val_acc: 0.5701\n",
      "Epoch 148/200\n",
      "4/4 [==============================] - 0s 54ms/step - loss: 0.6276 - acc: 0.7217 - val_loss: 1.3500 - val_acc: 0.5794\n",
      "Epoch 149/200\n",
      "4/4 [==============================] - 0s 56ms/step - loss: 0.6238 - acc: 0.7238 - val_loss: 1.3569 - val_acc: 0.5794\n",
      "Epoch 150/200\n",
      "4/4 [==============================] - 0s 60ms/step - loss: 0.6190 - acc: 0.7247 - val_loss: 1.3621 - val_acc: 0.5794\n",
      "Epoch 151/200\n",
      "4/4 [==============================] - 0s 55ms/step - loss: 0.6152 - acc: 0.7266 - val_loss: 1.3688 - val_acc: 0.5794\n",
      "Epoch 152/200\n",
      "4/4 [==============================] - 0s 56ms/step - loss: 0.6109 - acc: 0.7284 - val_loss: 1.3591 - val_acc: 0.5794\n",
      "Epoch 153/200\n",
      "4/4 [==============================] - 0s 58ms/step - loss: 0.6071 - acc: 0.7283 - val_loss: 1.3450 - val_acc: 0.5794\n",
      "Epoch 154/200\n",
      "4/4 [==============================] - 0s 57ms/step - loss: 0.6026 - acc: 0.7303 - val_loss: 1.3382 - val_acc: 0.5888\n",
      "Epoch 155/200\n",
      "4/4 [==============================] - 0s 56ms/step - loss: 0.5981 - acc: 0.7303 - val_loss: 1.3572 - val_acc: 0.5794\n",
      "Epoch 156/200\n",
      "4/4 [==============================] - 0s 58ms/step - loss: 0.5933 - acc: 0.7320 - val_loss: 1.3638 - val_acc: 0.5794\n",
      "Epoch 157/200\n",
      "4/4 [==============================] - 0s 58ms/step - loss: 0.5898 - acc: 0.7341 - val_loss: 1.3546 - val_acc: 0.5794\n",
      "Epoch 158/200\n",
      "4/4 [==============================] - 0s 57ms/step - loss: 0.5858 - acc: 0.7359 - val_loss: 1.3338 - val_acc: 0.5981\n",
      "Epoch 159/200\n",
      "4/4 [==============================] - 0s 55ms/step - loss: 0.5822 - acc: 0.7343 - val_loss: 1.3326 - val_acc: 0.6075\n",
      "Epoch 160/200\n",
      "4/4 [==============================] - 0s 57ms/step - loss: 0.5803 - acc: 0.7341 - val_loss: 1.3293 - val_acc: 0.5981\n",
      "Epoch 161/200\n",
      "4/4 [==============================] - 0s 55ms/step - loss: 0.5742 - acc: 0.7389 - val_loss: 1.3561 - val_acc: 0.5794\n",
      "Epoch 162/200\n",
      "4/4 [==============================] - 0s 57ms/step - loss: 0.5695 - acc: 0.7403 - val_loss: 1.3376 - val_acc: 0.5981\n",
      "Epoch 163/200\n",
      "4/4 [==============================] - 0s 55ms/step - loss: 0.5649 - acc: 0.7412 - val_loss: 1.3327 - val_acc: 0.5981\n",
      "Epoch 164/200\n",
      "4/4 [==============================] - 0s 57ms/step - loss: 0.5614 - acc: 0.7433 - val_loss: 1.3302 - val_acc: 0.6075\n",
      "Epoch 165/200\n",
      "4/4 [==============================] - 0s 56ms/step - loss: 0.5567 - acc: 0.7453 - val_loss: 1.3360 - val_acc: 0.5794\n",
      "Epoch 166/200\n",
      "4/4 [==============================] - 0s 56ms/step - loss: 0.5535 - acc: 0.7438 - val_loss: 1.3362 - val_acc: 0.5981\n",
      "Epoch 167/200\n",
      "4/4 [==============================] - 0s 59ms/step - loss: 0.5493 - acc: 0.7457 - val_loss: 1.3414 - val_acc: 0.6075\n",
      "Epoch 168/200\n",
      "4/4 [==============================] - 0s 54ms/step - loss: 0.5454 - acc: 0.7455 - val_loss: 1.3335 - val_acc: 0.6075\n",
      "Epoch 169/200\n",
      "4/4 [==============================] - 0s 57ms/step - loss: 0.5419 - acc: 0.7468 - val_loss: 1.3386 - val_acc: 0.6075\n",
      "Epoch 170/200\n",
      "4/4 [==============================] - 0s 55ms/step - loss: 0.5386 - acc: 0.7481 - val_loss: 1.3360 - val_acc: 0.5981\n",
      "Epoch 171/200\n",
      "4/4 [==============================] - 0s 59ms/step - loss: 0.5339 - acc: 0.7506 - val_loss: 1.3441 - val_acc: 0.6075\n",
      "Epoch 172/200\n",
      "4/4 [==============================] - 0s 56ms/step - loss: 0.5302 - acc: 0.7524 - val_loss: 1.3312 - val_acc: 0.6168\n",
      "Epoch 173/200\n",
      "4/4 [==============================] - 0s 56ms/step - loss: 0.5269 - acc: 0.7522 - val_loss: 1.3384 - val_acc: 0.6075\n",
      "Epoch 174/200\n",
      "4/4 [==============================] - 0s 58ms/step - loss: 0.5237 - acc: 0.7547 - val_loss: 1.3396 - val_acc: 0.6168\n",
      "Epoch 175/200\n",
      "4/4 [==============================] - 0s 57ms/step - loss: 0.5201 - acc: 0.7547 - val_loss: 1.3310 - val_acc: 0.6168\n",
      "Epoch 176/200\n",
      "4/4 [==============================] - 0s 56ms/step - loss: 0.5166 - acc: 0.7579 - val_loss: 1.3489 - val_acc: 0.6168\n",
      "Epoch 177/200\n",
      "4/4 [==============================] - 0s 55ms/step - loss: 0.5132 - acc: 0.7569 - val_loss: 1.3357 - val_acc: 0.6075\n",
      "Epoch 178/200\n",
      "4/4 [==============================] - 0s 59ms/step - loss: 0.5101 - acc: 0.7577 - val_loss: 1.3409 - val_acc: 0.6262\n",
      "Epoch 179/200\n",
      "4/4 [==============================] - 0s 55ms/step - loss: 0.5063 - acc: 0.7582 - val_loss: 1.3406 - val_acc: 0.6262\n",
      "Epoch 180/200\n",
      "4/4 [==============================] - 0s 54ms/step - loss: 0.5035 - acc: 0.7601 - val_loss: 1.3357 - val_acc: 0.6262\n",
      "Epoch 181/200\n",
      "4/4 [==============================] - 0s 60ms/step - loss: 0.5002 - acc: 0.7597 - val_loss: 1.3466 - val_acc: 0.6168\n",
      "Epoch 182/200\n",
      "4/4 [==============================] - 0s 57ms/step - loss: 0.4966 - acc: 0.7629 - val_loss: 1.3453 - val_acc: 0.6262\n",
      "Epoch 183/200\n",
      "4/4 [==============================] - 0s 55ms/step - loss: 0.4926 - acc: 0.7650 - val_loss: 1.3371 - val_acc: 0.6262\n",
      "Epoch 184/200\n",
      "4/4 [==============================] - 0s 56ms/step - loss: 0.4889 - acc: 0.7663 - val_loss: 1.3314 - val_acc: 0.6168\n",
      "Epoch 185/200\n",
      "4/4 [==============================] - 0s 60ms/step - loss: 0.4857 - acc: 0.7680 - val_loss: 1.3405 - val_acc: 0.6168\n",
      "Epoch 186/200\n",
      "4/4 [==============================] - 0s 56ms/step - loss: 0.4819 - acc: 0.7701 - val_loss: 1.3436 - val_acc: 0.6168\n",
      "Epoch 187/200\n",
      "4/4 [==============================] - 0s 55ms/step - loss: 0.4785 - acc: 0.7723 - val_loss: 1.3384 - val_acc: 0.6262\n",
      "Epoch 188/200\n",
      "4/4 [==============================] - 0s 60ms/step - loss: 0.4754 - acc: 0.7721 - val_loss: 1.3399 - val_acc: 0.6262\n",
      "Epoch 189/200\n",
      "4/4 [==============================] - 0s 54ms/step - loss: 0.4728 - acc: 0.7734 - val_loss: 1.3370 - val_acc: 0.6262\n",
      "Epoch 190/200\n",
      "4/4 [==============================] - 0s 57ms/step - loss: 0.4689 - acc: 0.7766 - val_loss: 1.3386 - val_acc: 0.6168\n",
      "Epoch 191/200\n",
      "4/4 [==============================] - 0s 56ms/step - loss: 0.4660 - acc: 0.7779 - val_loss: 1.3319 - val_acc: 0.6168\n",
      "Epoch 192/200\n",
      "4/4 [==============================] - 0s 60ms/step - loss: 0.4630 - acc: 0.7792 - val_loss: 1.3411 - val_acc: 0.6168\n",
      "Epoch 193/200\n",
      "4/4 [==============================] - 0s 56ms/step - loss: 0.4604 - acc: 0.7779 - val_loss: 1.3427 - val_acc: 0.6168\n",
      "Epoch 194/200\n",
      "4/4 [==============================] - 0s 56ms/step - loss: 0.4583 - acc: 0.7804 - val_loss: 1.3357 - val_acc: 0.6168\n",
      "Epoch 195/200\n",
      "4/4 [==============================] - 0s 60ms/step - loss: 0.4556 - acc: 0.7819 - val_loss: 1.3500 - val_acc: 0.6168\n",
      "Epoch 196/200\n",
      "4/4 [==============================] - 0s 55ms/step - loss: 0.4531 - acc: 0.7822 - val_loss: 1.3422 - val_acc: 0.6168\n",
      "Epoch 197/200\n",
      "4/4 [==============================] - 0s 55ms/step - loss: 0.4488 - acc: 0.7856 - val_loss: 1.3387 - val_acc: 0.6168\n",
      "Epoch 198/200\n",
      "4/4 [==============================] - 0s 57ms/step - loss: 0.4457 - acc: 0.7864 - val_loss: 1.3438 - val_acc: 0.6168\n",
      "Epoch 199/200\n",
      "4/4 [==============================] - 0s 58ms/step - loss: 0.4427 - acc: 0.7875 - val_loss: 1.3380 - val_acc: 0.6168\n",
      "Epoch 200/200\n",
      "4/4 [==============================] - 0s 54ms/step - loss: 0.4395 - acc: 0.7899 - val_loss: 1.3374 - val_acc: 0.6168\n"
     ]
    },
    {
     "data": {
      "image/png": "[encoded data removed]",
      "text/plain": [
       "<Figure size 432x288 with 1 Axes>"
      ]
     },
     "metadata": {
      "tags": []
     },
     "output_type": "display_data"
    },
    {
     "data": {
      "image/png": "[encoded data removed]",
      "text/plain": [
       "<Figure size 432x288 with 1 Axes>"
      ]
     },
     "metadata": {
      "tags": []
     },
     "output_type": "display_data"
    }
   ],
   "source": [
    "if training:\n",
    "    # train the model\n",
    "    history=model.fit([padded_encoder_source_arr, padded_decoder_source_arr], onehotted_decoder_output_arr, epochs=epochs, validation_split=0.02, callbacks=[tbCallBack], batch_size=batch_size)\n",
    "    model.save_weights(os.path.join(root_dir, 'word-seq2seq.hdf5'))\n",
    "    with plt.style.context('dark_background'):\n",
    "        plt.plot(history.history['acc'])\n",
    "        plt.plot(history.history['val_acc'])\n",
    "        plt.title('model accuracy')\n",
    "        plt.ylabel('accuracy')\n",
    "        plt.xlabel('epoch')\n",
    "        plt.legend(['train', 'val'], loc='upper left')\n",
    "        plt.show()\n",
    "        plt.plot(history.history['loss'])\n",
    "        plt.plot(history.history['val_loss'])\n",
    "        plt.title('model loss')\n",
    "        plt.ylabel('loss')\n",
    "        plt.xlabel('epoch')\n",
    "        plt.legend(['train', 'val'], loc='upper left')\n",
    "        plt.show()"
   ]
  },
  {
   "cell_type": "markdown",
   "metadata": {
    "colab_type": "text",
    "id": "CZpJP5Fk9qZI"
   },
   "source": [
    "# Decoder Model"
   ]
  },
  {
   "cell_type": "code",
   "execution_count": 306,
   "metadata": {
    "colab": {},
    "colab_type": "code",
    "id": "Ksm-Vbao9qZJ"
   },
   "outputs": [],
   "source": [
    "# Encode the source sequence to get the \"Context vectors\"\n",
    "encoder_model = Model(encoder_inputs, encoder_states)\n",
    "# Decoder setup\n",
    "# Below tensors will hold the states of the previous time step\n",
    "decoder_state_input_h = Input(shape=(latent_dim,))\n",
    "decoder_state_input_c = Input(shape=(latent_dim,))\n",
    "decoder_state_input = [decoder_state_input_h, decoder_state_input_c]\n",
    "# Get the embeddings of the decoder sequence\n",
    "dec_emb2= dec_emb_layer(decoder_inputs)\n",
    "# To predict the next word in the sequence, set the initial states to the states from the previous time step\n",
    "decoder_outputs2 = decoder_lstm1(dec_emb2)\n",
    "decoder_outputs2 = decoder_lstm2(decoder_outputs2)\n",
    "decoder_outputs2, state_h2, state_c2 = decoder_lstm(decoder_outputs2, initial_state=decoder_state_input)\n",
    "decoder_states2 = [state_h2, state_c2]\n",
    "# A dense softmax layer to generate prob dist. over the target vocabulary\n",
    "decoder_outputs2 = decoder_dense(decoder_outputs2)\n",
    "# Final decoder model\n",
    "decoder_model = Model(\n",
    "    [decoder_inputs] + decoder_state_input,\n",
    "    [decoder_outputs2] + decoder_states2)"
   ]
  },
  {
   "cell_type": "markdown",
   "metadata": {
    "colab_type": "text",
    "id": "5yRFPYsS9qZM"
   },
   "source": [
    "# Decoding Logic"
   ]
  },
  {
   "cell_type": "code",
   "execution_count": 307,
   "metadata": {
    "colab": {},
    "colab_type": "code",
    "id": "_hAps5WG9qZN"
   },
   "outputs": [],
   "source": [
    "def decode_sequence(source_seq):\n",
    "    \n",
    "    # Encode the source as state vectors.\n",
    "    states_value = encoder_model.predict(source_seq)\n",
    "    # Generate empty target sequence of length 1.\n",
    "    target_seq = np.zeros((1,1))\n",
    "    # Populate the first character of \n",
    "    #target sequence with the start character.\n",
    "    target_seq[0, 0] = target_wordint_rel.inv['START_']\n",
    "    # Sampling loop for a batch of sequences\n",
    "    # (to simplify, here we assume a batch of size 1).\n",
    "    stop_condition = False\n",
    "    decoded_sentence = []\n",
    "    while not stop_condition:\n",
    "        output_tokens, h, c = decoder_model.predict([target_seq] + states_value)\n",
    "    # Sample a token\n",
    "        sampled_token_index = np.argmax(output_tokens[0, -1, :])\n",
    "        sampled_word =target_wordint_rel[sampled_token_index]\n",
    "        decoded_sentence += [sampled_word]\n",
    "    # Exit condition: either hit max length\n",
    "        # or find stop character.\n",
    "        if (sampled_word == '_END' or\n",
    "           len(decoded_sentence) > 50):\n",
    "            stop_condition = True\n",
    "    # Update the target sequence (of length 1).\n",
    "        target_seq = np.zeros((1,1))\n",
    "        target_seq[0, 0] = sampled_token_index\n",
    "    # Update states\n",
    "        states_value = [h, c]\n",
    "    return decoded_sentence"
   ]
  },
  {
   "cell_type": "markdown",
   "metadata": {
    "colab_type": "text",
    "id": "EZFK5mg_9qZQ"
   },
   "source": [
    "# Prediction"
   ]
  },
  {
   "cell_type": "code",
   "execution_count": 308,
   "metadata": {
    "colab": {
     "base_uri": "https://localhost:8080/",
     "height": 510
    },
    "colab_type": "code",
    "id": "mWwKlX5a9qZQ",
    "outputId": "a3f8a3dc-b162-4437-bd71-5157dff29fa3",
    "scrolled": false
   },
   "outputs": [
    {
     "ename": "UnknownError",
     "evalue": "ignored",
     "output_type": "error",
     "traceback": [
      "\u001b[0;31m---------------------------------------------------------------------------\u001b[0m",
      "\u001b[0;31mUnknownError\u001b[0m                              Traceback (most recent call last)",
      "\u001b[0;32m<ipython-input-308-c1ee264a2554>\u001b[0m in \u001b[0;36m<module>\u001b[0;34m()\u001b[0m\n\u001b[1;32m      6\u001b[0m \u001b[0;34m\u001b[0m\u001b[0m\n\u001b[1;32m      7\u001b[0m     \u001b[0mmodel\u001b[0m\u001b[0;34m.\u001b[0m\u001b[0mload_weights\u001b[0m\u001b[0;34m(\u001b[0m\u001b[0mos\u001b[0m\u001b[0;34m.\u001b[0m\u001b[0mpath\u001b[0m\u001b[0;34m.\u001b[0m\u001b[0mjoin\u001b[0m\u001b[0;34m(\u001b[0m\u001b[0mroot_dir\u001b[0m\u001b[0;34m,\u001b[0m \u001b[0;34m'word-seq2seq.hdf5'\u001b[0m\u001b[0;34m)\u001b[0m\u001b[0;34m)\u001b[0m\u001b[0;34m\u001b[0m\u001b[0;34m\u001b[0m\u001b[0m\n\u001b[0;32m----> 8\u001b[0;31m     \u001b[0my_truePred\u001b[0m \u001b[0;34m=\u001b[0m \u001b[0;34m[\u001b[0m\u001b[0;34m(\u001b[0m\u001b[0;34m' '\u001b[0m\u001b[0;34m.\u001b[0m\u001b[0mjoin\u001b[0m\u001b[0;34m(\u001b[0m\u001b[0msource_sents\u001b[0m\u001b[0;34m[\u001b[0m\u001b[0mseq_index\u001b[0m\u001b[0;34m]\u001b[0m\u001b[0;34m[\u001b[0m\u001b[0;34m:\u001b[0m\u001b[0;34m-\u001b[0m\u001b[0;36m1\u001b[0m\u001b[0;34m]\u001b[0m\u001b[0;34m)\u001b[0m\u001b[0;34m,\u001b[0m \u001b[0;34m' '\u001b[0m\u001b[0;34m.\u001b[0m\u001b[0mjoin\u001b[0m\u001b[0;34m(\u001b[0m\u001b[0mtarget_sents\u001b[0m\u001b[0;34m[\u001b[0m\u001b[0mseq_index\u001b[0m\u001b[0;34m]\u001b[0m\u001b[0;34m[\u001b[0m\u001b[0;36m1\u001b[0m\u001b[0;34m:\u001b[0m\u001b[0;34m-\u001b[0m\u001b[0;36m1\u001b[0m\u001b[0;34m]\u001b[0m\u001b[0;34m)\u001b[0m\u001b[0;34m,\u001b[0m \u001b[0;34m' '\u001b[0m\u001b[0;34m.\u001b[0m\u001b[0mjoin\u001b[0m\u001b[0;34m(\u001b[0m\u001b[0mdecode_sequence\u001b[0m\u001b[0;34m(\u001b[0m\u001b[0mpadded_encoder_source_arr\u001b[0m\u001b[0;34m[\u001b[0m\u001b[0mseq_index\u001b[0m\u001b[0;34m:\u001b[0m\u001b[0mseq_index\u001b[0m\u001b[0;34m+\u001b[0m\u001b[0;36m1\u001b[0m\u001b[0;34m]\u001b[0m\u001b[0;34m)\u001b[0m\u001b[0;34m[\u001b[0m\u001b[0;34m:\u001b[0m\u001b[0;34m-\u001b[0m\u001b[0;36m1\u001b[0m\u001b[0;34m]\u001b[0m\u001b[0;34m)\u001b[0m\u001b[0;34m)\u001b[0m \u001b[0;32mfor\u001b[0m \u001b[0mseq_index\u001b[0m\u001b[0;34m,\u001b[0m \u001b[0m_\u001b[0m \u001b[0;32min\u001b[0m \u001b[0menumerate\u001b[0m\u001b[0;34m(\u001b[0m\u001b[0mpadded_encoder_source_arr\u001b[0m\u001b[0;34m[\u001b[0m\u001b[0;36m0\u001b[0m\u001b[0;34m:\u001b[0m\u001b[0;36m10\u001b[0m\u001b[0;34m]\u001b[0m\u001b[0;34m,\u001b[0m \u001b[0;36m0\u001b[0m\u001b[0;34m)\u001b[0m\u001b[0;34m]\u001b[0m\u001b[0;34m\u001b[0m\u001b[0;34m\u001b[0m\u001b[0m\n\u001b[0m\u001b[1;32m      9\u001b[0m     \u001b[0mbleu_score\u001b[0m\u001b[0;34m=\u001b[0m\u001b[0;34m[\u001b[0m\u001b[0mcalc_strdiff\u001b[0m\u001b[0;34m(\u001b[0m\u001b[0mtrue\u001b[0m\u001b[0;34m,\u001b[0m \u001b[0mpred\u001b[0m\u001b[0;34m)\u001b[0m \u001b[0;32mfor\u001b[0m \u001b[0m_\u001b[0m\u001b[0;34m,\u001b[0m \u001b[0mtrue\u001b[0m\u001b[0;34m,\u001b[0m \u001b[0mpred\u001b[0m\u001b[0;34m,\u001b[0m \u001b[0;32min\u001b[0m \u001b[0my_truePred\u001b[0m\u001b[0;34m]\u001b[0m\u001b[0;34m\u001b[0m\u001b[0;34m\u001b[0m\u001b[0m\n\u001b[1;32m     10\u001b[0m     \u001b[0mprint\u001b[0m\u001b[0;34m(\u001b[0m\u001b[0;34mf'Bleu Scores are {bleu_score}'\u001b[0m\u001b[0;34m)\u001b[0m\u001b[0;34m\u001b[0m\u001b[0;34m\u001b[0m\u001b[0m\n",
      "\u001b[0;32m<ipython-input-308-c1ee264a2554>\u001b[0m in \u001b[0;36m<listcomp>\u001b[0;34m(.0)\u001b[0m\n\u001b[1;32m      6\u001b[0m \u001b[0;34m\u001b[0m\u001b[0m\n\u001b[1;32m      7\u001b[0m     \u001b[0mmodel\u001b[0m\u001b[0;34m.\u001b[0m\u001b[0mload_weights\u001b[0m\u001b[0;34m(\u001b[0m\u001b[0mos\u001b[0m\u001b[0;34m.\u001b[0m\u001b[0mpath\u001b[0m\u001b[0;34m.\u001b[0m\u001b[0mjoin\u001b[0m\u001b[0;34m(\u001b[0m\u001b[0mroot_dir\u001b[0m\u001b[0;34m,\u001b[0m \u001b[0;34m'word-seq2seq.hdf5'\u001b[0m\u001b[0;34m)\u001b[0m\u001b[0;34m)\u001b[0m\u001b[0;34m\u001b[0m\u001b[0;34m\u001b[0m\u001b[0m\n\u001b[0;32m----> 8\u001b[0;31m     \u001b[0my_truePred\u001b[0m \u001b[0;34m=\u001b[0m \u001b[0;34m[\u001b[0m\u001b[0;34m(\u001b[0m\u001b[0;34m' '\u001b[0m\u001b[0;34m.\u001b[0m\u001b[0mjoin\u001b[0m\u001b[0;34m(\u001b[0m\u001b[0msource_sents\u001b[0m\u001b[0;34m[\u001b[0m\u001b[0mseq_index\u001b[0m\u001b[0;34m]\u001b[0m\u001b[0;34m[\u001b[0m\u001b[0;34m:\u001b[0m\u001b[0;34m-\u001b[0m\u001b[0;36m1\u001b[0m\u001b[0;34m]\u001b[0m\u001b[0;34m)\u001b[0m\u001b[0;34m,\u001b[0m \u001b[0;34m' '\u001b[0m\u001b[0;34m.\u001b[0m\u001b[0mjoin\u001b[0m\u001b[0;34m(\u001b[0m\u001b[0mtarget_sents\u001b[0m\u001b[0;34m[\u001b[0m\u001b[0mseq_index\u001b[0m\u001b[0;34m]\u001b[0m\u001b[0;34m[\u001b[0m\u001b[0;36m1\u001b[0m\u001b[0;34m:\u001b[0m\u001b[0;34m-\u001b[0m\u001b[0;36m1\u001b[0m\u001b[0;34m]\u001b[0m\u001b[0;34m)\u001b[0m\u001b[0;34m,\u001b[0m \u001b[0;34m' '\u001b[0m\u001b[0;34m.\u001b[0m\u001b[0mjoin\u001b[0m\u001b[0;34m(\u001b[0m\u001b[0mdecode_sequence\u001b[0m\u001b[0;34m(\u001b[0m\u001b[0mpadded_encoder_source_arr\u001b[0m\u001b[0;34m[\u001b[0m\u001b[0mseq_index\u001b[0m\u001b[0;34m:\u001b[0m\u001b[0mseq_index\u001b[0m\u001b[0;34m+\u001b[0m\u001b[0;36m1\u001b[0m\u001b[0;34m]\u001b[0m\u001b[0;34m)\u001b[0m\u001b[0;34m[\u001b[0m\u001b[0;34m:\u001b[0m\u001b[0;34m-\u001b[0m\u001b[0;36m1\u001b[0m\u001b[0;34m]\u001b[0m\u001b[0;34m)\u001b[0m\u001b[0;34m)\u001b[0m \u001b[0;32mfor\u001b[0m \u001b[0mseq_index\u001b[0m\u001b[0;34m,\u001b[0m \u001b[0m_\u001b[0m \u001b[0;32min\u001b[0m \u001b[0menumerate\u001b[0m\u001b[0;34m(\u001b[0m\u001b[0mpadded_encoder_source_arr\u001b[0m\u001b[0;34m[\u001b[0m\u001b[0;36m0\u001b[0m\u001b[0;34m:\u001b[0m\u001b[0;36m10\u001b[0m\u001b[0;34m]\u001b[0m\u001b[0;34m,\u001b[0m \u001b[0;36m0\u001b[0m\u001b[0;34m)\u001b[0m\u001b[0;34m]\u001b[0m\u001b[0;34m\u001b[0m\u001b[0;34m\u001b[0m\u001b[0m\n\u001b[0m\u001b[1;32m      9\u001b[0m     \u001b[0mbleu_score\u001b[0m\u001b[0;34m=\u001b[0m\u001b[0;34m[\u001b[0m\u001b[0mcalc_strdiff\u001b[0m\u001b[0;34m(\u001b[0m\u001b[0mtrue\u001b[0m\u001b[0;34m,\u001b[0m \u001b[0mpred\u001b[0m\u001b[0;34m)\u001b[0m \u001b[0;32mfor\u001b[0m \u001b[0m_\u001b[0m\u001b[0;34m,\u001b[0m \u001b[0mtrue\u001b[0m\u001b[0;34m,\u001b[0m \u001b[0mpred\u001b[0m\u001b[0;34m,\u001b[0m \u001b[0;32min\u001b[0m \u001b[0my_truePred\u001b[0m\u001b[0;34m]\u001b[0m\u001b[0;34m\u001b[0m\u001b[0;34m\u001b[0m\u001b[0m\n\u001b[1;32m     10\u001b[0m     \u001b[0mprint\u001b[0m\u001b[0;34m(\u001b[0m\u001b[0;34mf'Bleu Scores are {bleu_score}'\u001b[0m\u001b[0;34m)\u001b[0m\u001b[0;34m\u001b[0m\u001b[0;34m\u001b[0m\u001b[0m\n",
      "\u001b[0;32m<ipython-input-307-d8349d9c9f9e>\u001b[0m in \u001b[0;36mdecode_sequence\u001b[0;34m(source_seq)\u001b[0m\n\u001b[1;32m     13\u001b[0m     \u001b[0mdecoded_sentence\u001b[0m \u001b[0;34m=\u001b[0m \u001b[0;34m[\u001b[0m\u001b[0;34m]\u001b[0m\u001b[0;34m\u001b[0m\u001b[0;34m\u001b[0m\u001b[0m\n\u001b[1;32m     14\u001b[0m     \u001b[0;32mwhile\u001b[0m \u001b[0;32mnot\u001b[0m \u001b[0mstop_condition\u001b[0m\u001b[0;34m:\u001b[0m\u001b[0;34m\u001b[0m\u001b[0;34m\u001b[0m\u001b[0m\n\u001b[0;32m---> 15\u001b[0;31m         \u001b[0moutput_tokens\u001b[0m\u001b[0;34m,\u001b[0m \u001b[0mh\u001b[0m\u001b[0;34m,\u001b[0m \u001b[0mc\u001b[0m \u001b[0;34m=\u001b[0m \u001b[0mdecoder_model\u001b[0m\u001b[0;34m.\u001b[0m\u001b[0mpredict\u001b[0m\u001b[0;34m(\u001b[0m\u001b[0;34m[\u001b[0m\u001b[0mtarget_seq\u001b[0m\u001b[0;34m]\u001b[0m \u001b[0;34m+\u001b[0m \u001b[0mstates_value\u001b[0m\u001b[0;34m)\u001b[0m\u001b[0;34m\u001b[0m\u001b[0;34m\u001b[0m\u001b[0m\n\u001b[0m\u001b[1;32m     16\u001b[0m     \u001b[0;31m# Sample a token\u001b[0m\u001b[0;34m\u001b[0m\u001b[0;34m\u001b[0m\u001b[0;34m\u001b[0m\u001b[0m\n\u001b[1;32m     17\u001b[0m         \u001b[0msampled_token_index\u001b[0m \u001b[0;34m=\u001b[0m \u001b[0mnp\u001b[0m\u001b[0;34m.\u001b[0m\u001b[0margmax\u001b[0m\u001b[0;34m(\u001b[0m\u001b[0moutput_tokens\u001b[0m\u001b[0;34m[\u001b[0m\u001b[0;36m0\u001b[0m\u001b[0;34m,\u001b[0m \u001b[0;34m-\u001b[0m\u001b[0;36m1\u001b[0m\u001b[0;34m,\u001b[0m \u001b[0;34m:\u001b[0m\u001b[0;34m]\u001b[0m\u001b[0;34m)\u001b[0m\u001b[0;34m\u001b[0m\u001b[0;34m\u001b[0m\u001b[0m\n",
      "\u001b[0;32m/usr/local/lib/python3.6/dist-packages/tensorflow/python/keras/engine/training.py\u001b[0m in \u001b[0;36m_method_wrapper\u001b[0;34m(self, *args, **kwargs)\u001b[0m\n\u001b[1;32m    128\u001b[0m       raise ValueError('{} is not supported in multi-worker mode.'.format(\n\u001b[1;32m    129\u001b[0m           method.__name__))\n\u001b[0;32m--> 130\u001b[0;31m     \u001b[0;32mreturn\u001b[0m \u001b[0mmethod\u001b[0m\u001b[0;34m(\u001b[0m\u001b[0mself\u001b[0m\u001b[0;34m,\u001b[0m \u001b[0;34m*\u001b[0m\u001b[0margs\u001b[0m\u001b[0;34m,\u001b[0m \u001b[0;34m**\u001b[0m\u001b[0mkwargs\u001b[0m\u001b[0;34m)\u001b[0m\u001b[0;34m\u001b[0m\u001b[0;34m\u001b[0m\u001b[0m\n\u001b[0m\u001b[1;32m    131\u001b[0m \u001b[0;34m\u001b[0m\u001b[0m\n\u001b[1;32m    132\u001b[0m   return tf_decorator.make_decorator(\n",
      "\u001b[0;32m/usr/local/lib/python3.6/dist-packages/tensorflow/python/keras/engine/training.py\u001b[0m in \u001b[0;36mpredict\u001b[0;34m(self, x, batch_size, verbose, steps, callbacks, max_queue_size, workers, use_multiprocessing)\u001b[0m\n\u001b[1;32m   1597\u001b[0m           \u001b[0;32mfor\u001b[0m \u001b[0mstep\u001b[0m \u001b[0;32min\u001b[0m \u001b[0mdata_handler\u001b[0m\u001b[0;34m.\u001b[0m\u001b[0msteps\u001b[0m\u001b[0;34m(\u001b[0m\u001b[0;34m)\u001b[0m\u001b[0;34m:\u001b[0m\u001b[0;34m\u001b[0m\u001b[0;34m\u001b[0m\u001b[0m\n\u001b[1;32m   1598\u001b[0m             \u001b[0mcallbacks\u001b[0m\u001b[0;34m.\u001b[0m\u001b[0mon_predict_batch_begin\u001b[0m\u001b[0;34m(\u001b[0m\u001b[0mstep\u001b[0m\u001b[0;34m)\u001b[0m\u001b[0;34m\u001b[0m\u001b[0;34m\u001b[0m\u001b[0m\n\u001b[0;32m-> 1599\u001b[0;31m             \u001b[0mtmp_batch_outputs\u001b[0m \u001b[0;34m=\u001b[0m \u001b[0mpredict_function\u001b[0m\u001b[0;34m(\u001b[0m\u001b[0miterator\u001b[0m\u001b[0;34m)\u001b[0m\u001b[0;34m\u001b[0m\u001b[0;34m\u001b[0m\u001b[0m\n\u001b[0m\u001b[1;32m   1600\u001b[0m             \u001b[0;32mif\u001b[0m \u001b[0mdata_handler\u001b[0m\u001b[0;34m.\u001b[0m\u001b[0mshould_sync\u001b[0m\u001b[0;34m:\u001b[0m\u001b[0;34m\u001b[0m\u001b[0;34m\u001b[0m\u001b[0m\n\u001b[1;32m   1601\u001b[0m               \u001b[0mcontext\u001b[0m\u001b[0;34m.\u001b[0m\u001b[0masync_wait\u001b[0m\u001b[0;34m(\u001b[0m\u001b[0;34m)\u001b[0m\u001b[0;34m\u001b[0m\u001b[0;34m\u001b[0m\u001b[0m\n",
      "\u001b[0;32m/usr/local/lib/python3.6/dist-packages/tensorflow/python/eager/def_function.py\u001b[0m in \u001b[0;36m__call__\u001b[0;34m(self, *args, **kwds)\u001b[0m\n\u001b[1;32m    778\u001b[0m       \u001b[0;32melse\u001b[0m\u001b[0;34m:\u001b[0m\u001b[0;34m\u001b[0m\u001b[0;34m\u001b[0m\u001b[0m\n\u001b[1;32m    779\u001b[0m         \u001b[0mcompiler\u001b[0m \u001b[0;34m=\u001b[0m \u001b[0;34m\"nonXla\"\u001b[0m\u001b[0;34m\u001b[0m\u001b[0;34m\u001b[0m\u001b[0m\n\u001b[0;32m--> 780\u001b[0;31m         \u001b[0mresult\u001b[0m \u001b[0;34m=\u001b[0m \u001b[0mself\u001b[0m\u001b[0;34m.\u001b[0m\u001b[0m_call\u001b[0m\u001b[0;34m(\u001b[0m\u001b[0;34m*\u001b[0m\u001b[0margs\u001b[0m\u001b[0;34m,\u001b[0m \u001b[0;34m**\u001b[0m\u001b[0mkwds\u001b[0m\u001b[0;34m)\u001b[0m\u001b[0;34m\u001b[0m\u001b[0;34m\u001b[0m\u001b[0m\n\u001b[0m\u001b[1;32m    781\u001b[0m \u001b[0;34m\u001b[0m\u001b[0m\n\u001b[1;32m    782\u001b[0m       \u001b[0mnew_tracing_count\u001b[0m \u001b[0;34m=\u001b[0m \u001b[0mself\u001b[0m\u001b[0;34m.\u001b[0m\u001b[0m_get_tracing_count\u001b[0m\u001b[0;34m(\u001b[0m\u001b[0;34m)\u001b[0m\u001b[0;34m\u001b[0m\u001b[0;34m\u001b[0m\u001b[0m\n",
      "\u001b[0;32m/usr/local/lib/python3.6/dist-packages/tensorflow/python/eager/def_function.py\u001b[0m in \u001b[0;36m_call\u001b[0;34m(self, *args, **kwds)\u001b[0m\n\u001b[1;32m    812\u001b[0m       \u001b[0;31m# In this case we have not created variables on the first call. So we can\u001b[0m\u001b[0;34m\u001b[0m\u001b[0;34m\u001b[0m\u001b[0;34m\u001b[0m\u001b[0m\n\u001b[1;32m    813\u001b[0m       \u001b[0;31m# run the first trace but we should fail if variables are created.\u001b[0m\u001b[0;34m\u001b[0m\u001b[0;34m\u001b[0m\u001b[0;34m\u001b[0m\u001b[0m\n\u001b[0;32m--> 814\u001b[0;31m       \u001b[0mresults\u001b[0m \u001b[0;34m=\u001b[0m \u001b[0mself\u001b[0m\u001b[0;34m.\u001b[0m\u001b[0m_stateful_fn\u001b[0m\u001b[0;34m(\u001b[0m\u001b[0;34m*\u001b[0m\u001b[0margs\u001b[0m\u001b[0;34m,\u001b[0m \u001b[0;34m**\u001b[0m\u001b[0mkwds\u001b[0m\u001b[0;34m)\u001b[0m\u001b[0;34m\u001b[0m\u001b[0;34m\u001b[0m\u001b[0m\n\u001b[0m\u001b[1;32m    815\u001b[0m       \u001b[0;32mif\u001b[0m \u001b[0mself\u001b[0m\u001b[0;34m.\u001b[0m\u001b[0m_created_variables\u001b[0m\u001b[0;34m:\u001b[0m\u001b[0;34m\u001b[0m\u001b[0;34m\u001b[0m\u001b[0m\n\u001b[1;32m    816\u001b[0m         raise ValueError(\"Creating variables on a non-first call to a function\"\n",
      "\u001b[0;32m/usr/local/lib/python3.6/dist-packages/tensorflow/python/eager/function.py\u001b[0m in \u001b[0;36m__call__\u001b[0;34m(self, *args, **kwargs)\u001b[0m\n\u001b[1;32m   2827\u001b[0m     \u001b[0;32mwith\u001b[0m \u001b[0mself\u001b[0m\u001b[0;34m.\u001b[0m\u001b[0m_lock\u001b[0m\u001b[0;34m:\u001b[0m\u001b[0;34m\u001b[0m\u001b[0;34m\u001b[0m\u001b[0m\n\u001b[1;32m   2828\u001b[0m       \u001b[0mgraph_function\u001b[0m\u001b[0;34m,\u001b[0m \u001b[0margs\u001b[0m\u001b[0;34m,\u001b[0m \u001b[0mkwargs\u001b[0m \u001b[0;34m=\u001b[0m \u001b[0mself\u001b[0m\u001b[0;34m.\u001b[0m\u001b[0m_maybe_define_function\u001b[0m\u001b[0;34m(\u001b[0m\u001b[0margs\u001b[0m\u001b[0;34m,\u001b[0m \u001b[0mkwargs\u001b[0m\u001b[0;34m)\u001b[0m\u001b[0;34m\u001b[0m\u001b[0;34m\u001b[0m\u001b[0m\n\u001b[0;32m-> 2829\u001b[0;31m     \u001b[0;32mreturn\u001b[0m \u001b[0mgraph_function\u001b[0m\u001b[0;34m.\u001b[0m\u001b[0m_filtered_call\u001b[0m\u001b[0;34m(\u001b[0m\u001b[0margs\u001b[0m\u001b[0;34m,\u001b[0m \u001b[0mkwargs\u001b[0m\u001b[0;34m)\u001b[0m  \u001b[0;31m# pylint: disable=protected-access\u001b[0m\u001b[0;34m\u001b[0m\u001b[0;34m\u001b[0m\u001b[0m\n\u001b[0m\u001b[1;32m   2830\u001b[0m \u001b[0;34m\u001b[0m\u001b[0m\n\u001b[1;32m   2831\u001b[0m   \u001b[0;34m@\u001b[0m\u001b[0mproperty\u001b[0m\u001b[0;34m\u001b[0m\u001b[0;34m\u001b[0m\u001b[0m\n",
      "\u001b[0;32m/usr/local/lib/python3.6/dist-packages/tensorflow/python/eager/function.py\u001b[0m in \u001b[0;36m_filtered_call\u001b[0;34m(self, args, kwargs, cancellation_manager)\u001b[0m\n\u001b[1;32m   1846\u001b[0m                            resource_variable_ops.BaseResourceVariable))],\n\u001b[1;32m   1847\u001b[0m         \u001b[0mcaptured_inputs\u001b[0m\u001b[0;34m=\u001b[0m\u001b[0mself\u001b[0m\u001b[0;34m.\u001b[0m\u001b[0mcaptured_inputs\u001b[0m\u001b[0;34m,\u001b[0m\u001b[0;34m\u001b[0m\u001b[0;34m\u001b[0m\u001b[0m\n\u001b[0;32m-> 1848\u001b[0;31m         cancellation_manager=cancellation_manager)\n\u001b[0m\u001b[1;32m   1849\u001b[0m \u001b[0;34m\u001b[0m\u001b[0m\n\u001b[1;32m   1850\u001b[0m   \u001b[0;32mdef\u001b[0m \u001b[0m_call_flat\u001b[0m\u001b[0;34m(\u001b[0m\u001b[0mself\u001b[0m\u001b[0;34m,\u001b[0m \u001b[0margs\u001b[0m\u001b[0;34m,\u001b[0m \u001b[0mcaptured_inputs\u001b[0m\u001b[0;34m,\u001b[0m \u001b[0mcancellation_manager\u001b[0m\u001b[0;34m=\u001b[0m\u001b[0;32mNone\u001b[0m\u001b[0;34m)\u001b[0m\u001b[0;34m:\u001b[0m\u001b[0;34m\u001b[0m\u001b[0;34m\u001b[0m\u001b[0m\n",
      "\u001b[0;32m/usr/local/lib/python3.6/dist-packages/tensorflow/python/eager/function.py\u001b[0m in \u001b[0;36m_call_flat\u001b[0;34m(self, args, captured_inputs, cancellation_manager)\u001b[0m\n\u001b[1;32m   1922\u001b[0m       \u001b[0;31m# No tape is watching; skip to running the function.\u001b[0m\u001b[0;34m\u001b[0m\u001b[0;34m\u001b[0m\u001b[0;34m\u001b[0m\u001b[0m\n\u001b[1;32m   1923\u001b[0m       return self._build_call_outputs(self._inference_function.call(\n\u001b[0;32m-> 1924\u001b[0;31m           ctx, args, cancellation_manager=cancellation_manager))\n\u001b[0m\u001b[1;32m   1925\u001b[0m     forward_backward = self._select_forward_and_backward_functions(\n\u001b[1;32m   1926\u001b[0m         \u001b[0margs\u001b[0m\u001b[0;34m,\u001b[0m\u001b[0;34m\u001b[0m\u001b[0;34m\u001b[0m\u001b[0m\n",
      "\u001b[0;32m/usr/local/lib/python3.6/dist-packages/tensorflow/python/eager/function.py\u001b[0m in \u001b[0;36mcall\u001b[0;34m(self, ctx, args, cancellation_manager)\u001b[0m\n\u001b[1;32m    548\u001b[0m               \u001b[0minputs\u001b[0m\u001b[0;34m=\u001b[0m\u001b[0margs\u001b[0m\u001b[0;34m,\u001b[0m\u001b[0;34m\u001b[0m\u001b[0;34m\u001b[0m\u001b[0m\n\u001b[1;32m    549\u001b[0m               \u001b[0mattrs\u001b[0m\u001b[0;34m=\u001b[0m\u001b[0mattrs\u001b[0m\u001b[0;34m,\u001b[0m\u001b[0;34m\u001b[0m\u001b[0;34m\u001b[0m\u001b[0m\n\u001b[0;32m--> 550\u001b[0;31m               ctx=ctx)\n\u001b[0m\u001b[1;32m    551\u001b[0m         \u001b[0;32melse\u001b[0m\u001b[0;34m:\u001b[0m\u001b[0;34m\u001b[0m\u001b[0;34m\u001b[0m\u001b[0m\n\u001b[1;32m    552\u001b[0m           outputs = execute.execute_with_cancellation(\n",
      "\u001b[0;32m/usr/local/lib/python3.6/dist-packages/tensorflow/python/eager/execute.py\u001b[0m in \u001b[0;36mquick_execute\u001b[0;34m(op_name, num_outputs, inputs, attrs, ctx, name)\u001b[0m\n\u001b[1;32m     58\u001b[0m     \u001b[0mctx\u001b[0m\u001b[0;34m.\u001b[0m\u001b[0mensure_initialized\u001b[0m\u001b[0;34m(\u001b[0m\u001b[0;34m)\u001b[0m\u001b[0;34m\u001b[0m\u001b[0;34m\u001b[0m\u001b[0m\n\u001b[1;32m     59\u001b[0m     tensors = pywrap_tfe.TFE_Py_Execute(ctx._handle, device_name, op_name,\n\u001b[0;32m---> 60\u001b[0;31m                                         inputs, attrs, num_outputs)\n\u001b[0m\u001b[1;32m     61\u001b[0m   \u001b[0;32mexcept\u001b[0m \u001b[0mcore\u001b[0m\u001b[0;34m.\u001b[0m\u001b[0m_NotOkStatusException\u001b[0m \u001b[0;32mas\u001b[0m \u001b[0me\u001b[0m\u001b[0;34m:\u001b[0m\u001b[0;34m\u001b[0m\u001b[0;34m\u001b[0m\u001b[0m\n\u001b[1;32m     62\u001b[0m     \u001b[0;32mif\u001b[0m \u001b[0mname\u001b[0m \u001b[0;32mis\u001b[0m \u001b[0;32mnot\u001b[0m \u001b[0;32mNone\u001b[0m\u001b[0;34m:\u001b[0m\u001b[0;34m\u001b[0m\u001b[0;34m\u001b[0m\u001b[0m\n",
      "\u001b[0;31mUnknownError\u001b[0m:    CUDNN_STATUS_BAD_PARAM\nin tensorflow/stream_executor/cuda/cuda_dnn.cc(1521): 'cudnnSetRNNDataDescriptor( data_desc.get(), data_type, layout, max_seq_length, batch_size, data_size, seq_lengths_array, (void*)&padding_fill)'\n\t [[{{node cond/then/_0/cond/CudnnRNNV3}}]]\n\t [[functional_43/decoder_lstm1/PartitionedCall]] [Op:__inference_predict_function_697282]\n\nFunction call stack:\npredict_function -> predict_function -> predict_function\n"
     ]
    }
   ],
   "source": [
    "def calc_strdiff(true, pred):\n",
    "    # return sum([1 for char in list(difflib.ndiff(true, pred)) if '+ ' in char or '- ' in char])/(len(true))\n",
    "    return  nltk.translate.bleu_score.sentence_bleu([word_tokenize(true)], word_tokenize(pred))\n",
    "    \n",
    "if validation:\n",
    "    \n",
    "    model.load_weights(os.path.join(root_dir, 'word-seq2seq.hdf5'))\n",
    "    y_truePred = [(' '.join(source_sents[seq_index][:-1]), ' '.join(target_sents[seq_index][1:-1]), ' '.join(decode_sequence(padded_encoder_source_arr[seq_index:seq_index+1])[:-1])) for seq_index, _ in enumerate(padded_encoder_source_arr[0:10], 0)]\n",
    "    bleu_score=[calc_strdiff(true, pred) for _, true, pred, in y_truePred]\n",
    "    print(f'Bleu Scores are {bleu_score}')\n",
    "    print(f'Avg bleu score for {no_of_tests} tests was {sum(bleu_score)/len(y_truePred)}.')\n",
    "    print(f\"{pd.DataFrame(y_truePred, columns=['Source', 'Expected', 'Predicted'])}\")"
   ]
  },
  {
   "cell_type": "code",
   "execution_count": null,
   "metadata": {
    "colab": {},
    "colab_type": "code",
    "id": "3VYTBy4Xey4-"
   },
   "outputs": [],
   "source": []
  }
 ],
 "metadata": {
  "accelerator": "GPU",
  "colab": {
   "collapsed_sections": [],
   "name": "word_seq2seq-extended.ipynb",
   "provenance": []
  },
  "kernelspec": {
   "display_name": "Python 3",
   "language": "python",
   "name": "python3"
  },
  "language_info": {
   "codemirror_mode": {
    "name": "ipython",
    "version": 3
   },
   "file_extension": ".py",
   "mimetype": "text/x-python",
   "name": "python",
   "nbconvert_exporter": "python",
   "pygments_lexer": "ipython3",
   "version": "3.7.7"
  }
 },
 "nbformat": 4,
 "nbformat_minor": 1
}
